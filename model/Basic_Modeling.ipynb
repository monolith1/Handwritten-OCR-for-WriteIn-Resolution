{
 "cells": [
  {
   "cell_type": "markdown",
   "id": "adeee737-01fc-44d5-a3d5-8e7f4eb42481",
   "metadata": {},
   "source": [
    "# Modeling - Simple Model"
   ]
  },
  {
   "cell_type": "code",
   "execution_count": 2,
   "id": "6455c4ee-7b1f-4994-aae2-00f87099e605",
   "metadata": {},
   "outputs": [],
   "source": [
    "# import necessary packages\n",
    "import tensorflow as tf\n",
    "import numpy as np\n",
    "from sklearn.preprocessing import LabelBinarizer\n",
    "from sklearn.model_selection import train_test_split\n",
    "from sklearn.metrics import classification_report\n",
    "import matplotlib.pyplot as plt\n",
    "import pickle"
   ]
  },
  {
   "cell_type": "code",
   "execution_count": 3,
   "id": "20faf43f-a989-4aa4-be04-92dc0ac3340c",
   "metadata": {},
   "outputs": [],
   "source": [
    "def load_az_dataset(datasetPath):\n",
    "    # initialize the list of data and labels\n",
    "    data = []\n",
    "    labels = []\n",
    "    # loop over the rows of the A-Z handwritten digit dataset\n",
    "    for row in open(datasetPath):\n",
    "        # parse the label and image from the row\n",
    "        row = row.split(\",\")\n",
    "        label = int(row[0])\n",
    "        image = np.array([int(x) for x in row[1:]], dtype=\"uint8\")\n",
    "        # images are represented as single channel (grayscale) images\n",
    "        # that are 28x28=784 pixels -- we need to take this flattened\n",
    "        # 784-d list of numbers and repshape them into a 28x28 matrix\n",
    "        image = image.reshape((28, 28, 1))\n",
    "        # update the list of data and labels\n",
    "        data.append(image)\n",
    "        labels.append(label)\n",
    "    # convert the data and labels to NumPy arrays\n",
    "    data = np.array(data, dtype=\"float32\")\n",
    "    labels = np.array(labels, dtype=\"int\")\n",
    "    # bring values between 0 and 1\n",
    "    data /= 255.0\n",
    "    # return a 2-tuple of the A-Z data and labels\n",
    "    return (data, labels)"
   ]
  },
  {
   "cell_type": "code",
   "execution_count": 4,
   "id": "37fdf39e-d356-425a-b1dd-855fe0e18600",
   "metadata": {},
   "outputs": [],
   "source": [
    "# retreive data and labels using our function defined above\n",
    "data, labels = load_az_dataset('data/NIST_SD19/A_Z Handwritten Data/A_Z Handwritten Data.csv')"
   ]
  },
  {
   "cell_type": "code",
   "execution_count": 5,
   "id": "50aa71d8-047a-4b76-8622-80b900748961",
   "metadata": {
    "tags": []
   },
   "outputs": [],
   "source": [
    "# define labels\n",
    "alpha = \"ABCDEFGHIJKLMNOPQRSTUVWXYZ\"\n",
    "labelNames = [l for l in alpha]"
   ]
  },
  {
   "cell_type": "code",
   "execution_count": 6,
   "id": "37eaa42d-be78-4e48-abe9-abb6a69c0bb3",
   "metadata": {},
   "outputs": [
    {
     "data": {
      "image/png": "[encoded data removed]",
      "text/plain": [
       "<Figure size 1080x1080 with 4 Axes>"
      ]
     },
     "metadata": {
      "needs_background": "light"
     },
     "output_type": "display_data"
    }
   ],
   "source": [
    "# plot first four images in data\n",
    "fig, axs = plt.subplots(1, 4)\n",
    "fig.set_figheight(15)\n",
    "fig.set_figwidth(15)\n",
    "for i in range(4):\n",
    "    axs[i].imshow(data[i])"
   ]
  },
  {
   "cell_type": "code",
   "execution_count": 7,
   "id": "91e81d4e-5f01-42ce-8a5b-0cd2de771ced",
   "metadata": {},
   "outputs": [],
   "source": [
    "# convert the labels from integers to vectors\n",
    "le = LabelBinarizer()\n",
    "labels = le.fit_transform(labels)"
   ]
  },
  {
   "cell_type": "code",
   "execution_count": 8,
   "id": "8e24fd49-cfce-491d-85cf-da72671c8fb8",
   "metadata": {},
   "outputs": [],
   "source": [
    "# split data and labels into train, test, validation\n",
    "X_train, X_test, y_train, y_test = train_test_split(data,\n",
    "                                                    labels,\n",
    "                                                    test_size=0.2,\n",
    "                                                    random_state=42)\n",
    "\n",
    "X_train, X_val, y_train, y_val = train_test_split(X_train,\n",
    "                                                    y_train,\n",
    "                                                    test_size=0.2,\n",
    "                                                    random_state=42)"
   ]
  },
  {
   "cell_type": "code",
   "execution_count": 9,
   "id": "ee546d6d-2b0a-4f80-b460-b88279b15c43",
   "metadata": {},
   "outputs": [
    {
     "name": "stdout",
     "output_type": "stream",
     "text": [
      "Model: \"sequential\"\n",
      "_________________________________________________________________\n",
      " Layer (type)                Output Shape              Param #   \n",
      "=================================================================\n",
      " flatten (Flatten)           (None, 784)               0         \n",
      "                                                                 \n",
      " dense (Dense)               (None, 128)               100480    \n",
      "                                                                 \n",
      " dense_1 (Dense)             (None, 26)                3354      \n",
      "                                                                 \n",
      "=================================================================\n",
      "Total params: 103,834\n",
      "Trainable params: 103,834\n",
      "Non-trainable params: 0\n",
      "_________________________________________________________________\n"
     ]
    }
   ],
   "source": [
    "# define model and retrieve a summary\n",
    "model = tf.keras.models.Sequential([\n",
    "  tf.keras.layers.Flatten(input_shape=(28, 28)),\n",
    "  tf.keras.layers.Dense(128,activation='relu'),\n",
    "  tf.keras.layers.Dense(len(labelNames), activation='softmax')\n",
    "])\n",
    "model.summary()"
   ]
  },
  {
   "cell_type": "code",
   "execution_count": 10,
   "id": "d19c046b-aaf5-42b8-8145-ff4e3e8e7390",
   "metadata": {},
   "outputs": [],
   "source": [
    "# compile model\n",
    "model.compile(optimizer='adam', loss='categorical_crossentropy', metrics=['accuracy'])"
   ]
  },
  {
   "cell_type": "code",
   "execution_count": 11,
   "id": "c3a60e11-0a3c-4d1d-83e8-2451d3ce620c",
   "metadata": {},
   "outputs": [
    {
     "name": "stdout",
     "output_type": "stream",
     "text": [
      "Epoch 1/50\n",
      "7449/7449 [==============================] - 25s 3ms/step - loss: 0.3078 - accuracy: 0.9162 - val_loss: 0.1801 - val_accuracy: 0.9496\n",
      "Epoch 2/50\n",
      "7449/7449 [==============================] - 28s 4ms/step - loss: 0.1384 - accuracy: 0.9610 - val_loss: 0.1298 - val_accuracy: 0.9644\n",
      "Epoch 3/50\n",
      "7449/7449 [==============================] - 29s 4ms/step - loss: 0.1065 - accuracy: 0.9700 - val_loss: 0.1154 - val_accuracy: 0.9688\n",
      "Epoch 4/50\n",
      "7449/7449 [==============================] - 29s 4ms/step - loss: 0.0890 - accuracy: 0.9743 - val_loss: 0.1072 - val_accuracy: 0.9714\n",
      "Epoch 5/50\n",
      "7449/7449 [==============================] - 30s 4ms/step - loss: 0.0779 - accuracy: 0.9775 - val_loss: 0.1009 - val_accuracy: 0.9736\n",
      "Epoch 6/50\n",
      "7449/7449 [==============================] - 29s 4ms/step - loss: 0.0691 - accuracy: 0.9797 - val_loss: 0.0981 - val_accuracy: 0.9740\n",
      "Epoch 7/50\n",
      "7449/7449 [==============================] - 29s 4ms/step - loss: 0.0620 - accuracy: 0.9813 - val_loss: 0.0972 - val_accuracy: 0.9744\n",
      "Epoch 8/50\n",
      "7449/7449 [==============================] - 29s 4ms/step - loss: 0.0564 - accuracy: 0.9834 - val_loss: 0.0923 - val_accuracy: 0.9774\n",
      "Epoch 9/50\n",
      "7449/7449 [==============================] - 30s 4ms/step - loss: 0.0519 - accuracy: 0.9845 - val_loss: 0.0992 - val_accuracy: 0.9760\n",
      "Epoch 10/50\n",
      "7449/7449 [==============================] - 29s 4ms/step - loss: 0.0480 - accuracy: 0.9854 - val_loss: 0.1023 - val_accuracy: 0.9751\n",
      "Epoch 11/50\n",
      "7449/7449 [==============================] - 33s 4ms/step - loss: 0.0442 - accuracy: 0.9867 - val_loss: 0.1034 - val_accuracy: 0.9756\n",
      "Epoch 12/50\n",
      "7449/7449 [==============================] - 29s 4ms/step - loss: 0.0416 - accuracy: 0.9872 - val_loss: 0.1016 - val_accuracy: 0.9773\n",
      "Epoch 13/50\n",
      "7449/7449 [==============================] - 25s 3ms/step - loss: 0.0386 - accuracy: 0.9879 - val_loss: 0.0936 - val_accuracy: 0.9797\n",
      "Epoch 14/50\n",
      "7449/7449 [==============================] - 27s 4ms/step - loss: 0.0365 - accuracy: 0.9888 - val_loss: 0.0983 - val_accuracy: 0.9779\n",
      "Epoch 15/50\n",
      "7449/7449 [==============================] - 28s 4ms/step - loss: 0.0337 - accuracy: 0.9893 - val_loss: 0.1017 - val_accuracy: 0.9793\n",
      "Epoch 16/50\n",
      "7449/7449 [==============================] - 27s 4ms/step - loss: 0.0324 - accuracy: 0.9898 - val_loss: 0.1029 - val_accuracy: 0.9783\n",
      "Epoch 17/50\n",
      "7449/7449 [==============================] - 27s 4ms/step - loss: 0.0302 - accuracy: 0.9900 - val_loss: 0.1029 - val_accuracy: 0.9789\n",
      "Epoch 18/50\n",
      "7449/7449 [==============================] - 28s 4ms/step - loss: 0.0295 - accuracy: 0.9906 - val_loss: 0.1039 - val_accuracy: 0.9793\n",
      "Epoch 19/50\n",
      "7449/7449 [==============================] - 28s 4ms/step - loss: 0.0280 - accuracy: 0.9910 - val_loss: 0.1107 - val_accuracy: 0.9784\n",
      "Epoch 20/50\n",
      "7449/7449 [==============================] - 28s 4ms/step - loss: 0.0266 - accuracy: 0.9916 - val_loss: 0.1110 - val_accuracy: 0.9790\n",
      "Epoch 21/50\n",
      "7449/7449 [==============================] - 27s 4ms/step - loss: 0.0254 - accuracy: 0.9918 - val_loss: 0.1168 - val_accuracy: 0.9778\n",
      "Epoch 22/50\n",
      "7449/7449 [==============================] - 25s 3ms/step - loss: 0.0243 - accuracy: 0.9922 - val_loss: 0.1119 - val_accuracy: 0.9799\n",
      "Epoch 23/50\n",
      "7449/7449 [==============================] - 24s 3ms/step - loss: 0.0229 - accuracy: 0.9927 - val_loss: 0.1087 - val_accuracy: 0.9806\n",
      "Epoch 24/50\n",
      "7449/7449 [==============================] - 27s 4ms/step - loss: 0.0229 - accuracy: 0.9924 - val_loss: 0.1190 - val_accuracy: 0.9801\n",
      "Epoch 25/50\n",
      "7449/7449 [==============================] - 27s 4ms/step - loss: 0.0213 - accuracy: 0.9931 - val_loss: 0.1191 - val_accuracy: 0.9799\n",
      "Epoch 26/50\n",
      "7449/7449 [==============================] - 28s 4ms/step - loss: 0.0215 - accuracy: 0.9928 - val_loss: 0.1127 - val_accuracy: 0.9823\n",
      "Epoch 27/50\n",
      "7449/7449 [==============================] - 27s 4ms/step - loss: 0.0202 - accuracy: 0.9933 - val_loss: 0.1180 - val_accuracy: 0.9810\n",
      "Epoch 28/50\n",
      "7449/7449 [==============================] - 28s 4ms/step - loss: 0.0198 - accuracy: 0.9935 - val_loss: 0.1221 - val_accuracy: 0.9817\n",
      "Epoch 29/50\n",
      "7449/7449 [==============================] - 27s 4ms/step - loss: 0.0190 - accuracy: 0.9938 - val_loss: 0.1290 - val_accuracy: 0.9808\n",
      "Epoch 30/50\n",
      "7449/7449 [==============================] - 28s 4ms/step - loss: 0.0183 - accuracy: 0.9940 - val_loss: 0.1273 - val_accuracy: 0.9809\n",
      "Epoch 31/50\n",
      "7449/7449 [==============================] - 27s 4ms/step - loss: 0.0178 - accuracy: 0.9941 - val_loss: 0.1257 - val_accuracy: 0.9818\n",
      "Epoch 32/50\n",
      "7449/7449 [==============================] - 28s 4ms/step - loss: 0.0184 - accuracy: 0.9940 - val_loss: 0.1332 - val_accuracy: 0.9820\n",
      "Epoch 33/50\n",
      "7449/7449 [==============================] - 28s 4ms/step - loss: 0.0165 - accuracy: 0.9943 - val_loss: 0.1239 - val_accuracy: 0.9839\n",
      "Epoch 34/50\n",
      "7449/7449 [==============================] - 28s 4ms/step - loss: 0.0167 - accuracy: 0.9945 - val_loss: 0.1327 - val_accuracy: 0.9822\n",
      "Epoch 35/50\n",
      "7449/7449 [==============================] - 28s 4ms/step - loss: 0.0161 - accuracy: 0.9948 - val_loss: 0.1432 - val_accuracy: 0.9810\n",
      "Epoch 36/50\n",
      "7449/7449 [==============================] - 27s 4ms/step - loss: 0.0161 - accuracy: 0.9946 - val_loss: 0.1362 - val_accuracy: 0.9821\n",
      "Epoch 37/50\n",
      "7449/7449 [==============================] - 28s 4ms/step - loss: 0.0150 - accuracy: 0.9952 - val_loss: 0.1388 - val_accuracy: 0.9825\n",
      "Epoch 38/50\n",
      "7449/7449 [==============================] - 28s 4ms/step - loss: 0.0150 - accuracy: 0.9952 - val_loss: 0.1434 - val_accuracy: 0.9822\n",
      "Epoch 39/50\n",
      "7449/7449 [==============================] - 28s 4ms/step - loss: 0.0143 - accuracy: 0.9952 - val_loss: 0.1484 - val_accuracy: 0.9833\n",
      "Epoch 40/50\n",
      "7449/7449 [==============================] - 29s 4ms/step - loss: 0.0151 - accuracy: 0.9952 - val_loss: 0.1546 - val_accuracy: 0.9807\n",
      "Epoch 41/50\n",
      "7449/7449 [==============================] - 24s 3ms/step - loss: 0.0146 - accuracy: 0.9952 - val_loss: 0.1532 - val_accuracy: 0.9822\n",
      "Epoch 42/50\n",
      "7449/7449 [==============================] - 29s 4ms/step - loss: 0.0138 - accuracy: 0.9956 - val_loss: 0.1565 - val_accuracy: 0.9815\n",
      "Epoch 43/50\n",
      "7449/7449 [==============================] - 29s 4ms/step - loss: 0.0138 - accuracy: 0.9956 - val_loss: 0.1553 - val_accuracy: 0.9829\n",
      "Epoch 44/50\n",
      "7449/7449 [==============================] - 29s 4ms/step - loss: 0.0135 - accuracy: 0.9955 - val_loss: 0.1600 - val_accuracy: 0.9820\n",
      "Epoch 45/50\n",
      "7449/7449 [==============================] - 29s 4ms/step - loss: 0.0135 - accuracy: 0.9958 - val_loss: 0.1573 - val_accuracy: 0.9829\n",
      "Epoch 46/50\n",
      "7449/7449 [==============================] - 29s 4ms/step - loss: 0.0134 - accuracy: 0.9958 - val_loss: 0.1542 - val_accuracy: 0.9838\n",
      "Epoch 47/50\n",
      "7449/7449 [==============================] - 29s 4ms/step - loss: 0.0133 - accuracy: 0.9958 - val_loss: 0.1663 - val_accuracy: 0.9828\n",
      "Epoch 48/50\n",
      "7449/7449 [==============================] - 29s 4ms/step - loss: 0.0134 - accuracy: 0.9958 - val_loss: 0.1616 - val_accuracy: 0.9841\n",
      "Epoch 49/50\n",
      "7449/7449 [==============================] - 29s 4ms/step - loss: 0.0124 - accuracy: 0.9959 - val_loss: 0.1677 - val_accuracy: 0.9828\n",
      "Epoch 50/50\n",
      "7449/7449 [==============================] - 29s 4ms/step - loss: 0.0134 - accuracy: 0.9960 - val_loss: 0.1638 - val_accuracy: 0.9831\n"
     ]
    }
   ],
   "source": [
    "# train model and produce history artifact\n",
    "history = model.fit(X_train, y_train, validation_data=(X_val, y_val), epochs=50)"
   ]
  },
  {
   "cell_type": "code",
   "execution_count": 12,
   "id": "539acf0a-64df-47f5-89b8-9c507300ad44",
   "metadata": {},
   "outputs": [],
   "source": [
    "# save model\n",
    "model.save('model/Basic.h5')"
   ]
  },
  {
   "cell_type": "code",
   "execution_count": 13,
   "id": "39729118-7028-4606-b4fc-9291eb0ea778",
   "metadata": {},
   "outputs": [],
   "source": [
    "# save model history\n",
    "with open('hist/Basic.hist', 'wb') as file_pi:\n",
    "        pickle.dump(history.history, file_pi)"
   ]
  },
  {
   "cell_type": "code",
   "execution_count": 14,
   "id": "bf899361-7736-422c-8489-7d7c838e0df8",
   "metadata": {},
   "outputs": [
    {
     "data": {
      "text/plain": [
       "<matplotlib.legend.Legend at 0x274c6486a30>"
      ]
     },
     "execution_count": 14,
     "metadata": {},
     "output_type": "execute_result"
    },
    {
     "data": {
      "image/png": "[encoded data removed]",
      "text/plain": [
       "<Figure size 1440x360 with 2 Axes>"
      ]
     },
     "metadata": {},
     "output_type": "display_data"
    }
   ],
   "source": [
    "# show plots of both accuracy and loss vs training epochs\n",
    "N = np.arange(0, 50)\n",
    "plt.style.use('ggplot')\n",
    "\n",
    "fig, ax = plt.subplots(1, 2)\n",
    "\n",
    "fig.suptitle('Training Accuracy and Loss')\n",
    "fig.set_figheight(5)\n",
    "fig.set_figwidth(20)\n",
    "\n",
    "ax[0].plot(N, history.history[\"accuracy\"], label=\"training\")\n",
    "ax[0].plot(N, history.history[\"val_accuracy\"], label=\"validation\")\n",
    "ax[0].set(xlabel='Epoch #', ylabel='Accuracy')\n",
    "ax[0].legend(loc=\"lower left\")\n",
    "\n",
    "ax[1].plot(N, history.history[\"loss\"], label=\"training\")\n",
    "ax[1].plot(N, history.history[\"val_loss\"], label=\"validation\")\n",
    "ax[1].set(xlabel='Epoch #', ylabel='Loss')\n",
    "ax[1].legend(loc=\"lower left\")"
   ]
  },
  {
   "cell_type": "code",
   "execution_count": 15,
   "id": "c102401d-78bf-46e2-bc5c-a1f6fc0409c0",
   "metadata": {},
   "outputs": [],
   "source": [
    "# save the above figure\n",
    "fig.savefig('hist/Basic.pdf', bbox_inches='tight')"
   ]
  },
  {
   "cell_type": "code",
   "execution_count": 16,
   "id": "96f26628-3444-4471-9b40-43a3d1948c16",
   "metadata": {},
   "outputs": [
    {
     "name": "stdout",
     "output_type": "stream",
     "text": [
      "              precision    recall  f1-score   support\n",
      "\n",
      "           A       0.95      0.99      0.97        92\n",
      "           B       0.95      0.97      0.96        64\n",
      "           C       0.98      0.99      0.99       201\n",
      "           D       0.94      0.97      0.96        67\n",
      "           E       0.97      0.99      0.98        78\n",
      "           F       1.00      0.88      0.93         8\n",
      "           G       0.93      0.95      0.94        41\n",
      "           H       0.98      0.93      0.95        55\n",
      "           I       0.90      1.00      0.95         9\n",
      "           J       0.99      0.97      0.98        68\n",
      "           K       0.97      0.95      0.96        41\n",
      "           L       0.98      0.98      0.98        85\n",
      "           M       0.98      0.97      0.97       100\n",
      "           N       0.97      1.00      0.99       186\n",
      "           O       0.99      0.99      0.99       480\n",
      "           P       1.00      0.99      1.00       150\n",
      "           Q       0.96      0.96      0.96        55\n",
      "           R       0.98      0.94      0.96        90\n",
      "           S       0.99      1.00      0.99       394\n",
      "           T       1.00      0.99      1.00       188\n",
      "           U       0.99      0.96      0.98       245\n",
      "           V       0.97      0.97      0.97        31\n",
      "           W       0.99      0.96      0.97        89\n",
      "           X       1.00      0.98      0.99        59\n",
      "           Y       0.96      0.99      0.97        67\n",
      "           Z       1.00      0.98      0.99        57\n",
      "\n",
      "    accuracy                           0.98      3000\n",
      "   macro avg       0.97      0.97      0.97      3000\n",
      "weighted avg       0.98      0.98      0.98      3000\n",
      "\n"
     ]
    }
   ],
   "source": [
    "# produce predictions on test set and display classification report\n",
    "predictions = model.predict(X_test[:3000])\n",
    "print(classification_report(y_test[:3000].argmax(axis=1), predictions.argmax(axis=1), target_names=labelNames))"
   ]
  },
  {
   "cell_type": "code",
   "execution_count": 17,
   "id": "24d5ae7d-38cb-4772-8140-b95cb05caff2",
   "metadata": {},
   "outputs": [
    {
     "name": "stdout",
     "output_type": "stream",
     "text": [
      "Running on local URL:  http://127.0.0.1:7865/\n",
      "Running on public URL: https://26591.gradio.app\n",
      "\n",
      "This share link expires in 72 hours. For free permanent hosting, check out Spaces (https://huggingface.co/spaces)\n"
     ]
    },
    {
     "data": {
      "text/html": [
       "\n",
       "        <iframe\n",
       "            width=\"900\"\n",
       "            height=\"500\"\n",
       "            src=\"https://26591.gradio.app\"\n",
       "            frameborder=\"0\"\n",
       "            allowfullscreen\n",
       "            \n",
       "        ></iframe>\n",
       "        "
      ],
      "text/plain": [
       "<IPython.lib.display.IFrame at 0x2755aa53370>"
      ]
     },
     "metadata": {},
     "output_type": "display_data"
    },
    {
     "data": {
      "text/plain": [
       "(<Flask 'gradio.networking'>,\n",
       " 'http://127.0.0.1:7865/',\n",
       " 'https://26591.gradio.app')"
      ]
     },
     "execution_count": 17,
     "metadata": {},
     "output_type": "execute_result"
    }
   ],
   "source": [
    "# instantiate gradio for further testing\n",
    "import gradio as gr\n",
    "\n",
    "def classify(input):\n",
    "    prediction = model.predict(input.reshape(1, 28, 28)).tolist()[0]\n",
    "    return {str(label): prediction[i] for i, label in enumerate(labelNames)}\n",
    "\n",
    "label = gr.outputs.Label(num_top_classes=3)\n",
    "interface = gr.Interface(fn=classify, inputs=\"sketchpad\", outputs=label)\n",
    "interface.launch(share=True)"
   ]
  },
  {
   "cell_type": "code",
   "execution_count": null,
   "id": "0bab3498-9a50-4103-a33b-a5f3a5652dee",
   "metadata": {},
   "outputs": [],
   "source": []
  }
 ],
 "metadata": {
  "kernelspec": {
   "display_name": "Python 3 (ipykernel)",
   "language": "python",
   "name": "python3"
  },
  "language_info": {
   "codemirror_mode": {
    "name": "ipython",
    "version": 3
   },
   "file_extension": ".py",
   "mimetype": "text/x-python",
   "name": "python",
   "nbconvert_exporter": "python",
   "pygments_lexer": "ipython3",
   "version": "3.9.7"
  }
 },
 "nbformat": 4,
 "nbformat_minor": 5
}
