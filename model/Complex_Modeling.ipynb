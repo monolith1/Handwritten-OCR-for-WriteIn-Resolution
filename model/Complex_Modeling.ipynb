{
 "cells": [
  {
   "cell_type": "markdown",
   "id": "067fc25d-3eef-4951-bb71-214f38ebaa5c",
   "metadata": {},
   "source": [
    "# Modeling - Complex Model (CNN and RNN Layers with Embedded LSTM)"
   ]
  },
  {
   "cell_type": "code",
   "execution_count": 1,
   "id": "6455c4ee-7b1f-4994-aae2-00f87099e605",
   "metadata": {},
   "outputs": [],
   "source": [
    "# import necessary packages\n",
    "import tensorflow as tf\n",
    "import numpy as np\n",
    "from sklearn.preprocessing import LabelBinarizer\n",
    "from sklearn.model_selection import train_test_split\n",
    "from sklearn.metrics import classification_report\n",
    "import matplotlib.pyplot as plt\n",
    "import pickle"
   ]
  },
  {
   "cell_type": "code",
   "execution_count": 2,
   "id": "20faf43f-a989-4aa4-be04-92dc0ac3340c",
   "metadata": {},
   "outputs": [],
   "source": [
    "def load_az_dataset(datasetPath):\n",
    "    # initialize the list of data and labels\n",
    "    data = []\n",
    "    labels = []\n",
    "    # loop over the rows of the A-Z handwritten digit dataset\n",
    "    for row in open(datasetPath):\n",
    "        # parse the label and image from the row\n",
    "        row = row.split(\",\")\n",
    "        label = int(row[0])\n",
    "        image = np.array([int(x) for x in row[1:]], dtype=\"uint8\")\n",
    "        # images are represented as single channel (grayscale) images\n",
    "        # that are 28x28=784 pixels -- we need to take this flattened\n",
    "        # 784-d list of numbers and repshape them into a 28x28 matrix\n",
    "        image = image.reshape((28, 28, 1))\n",
    "        # update the list of data and labels\n",
    "        data.append(image)\n",
    "        labels.append(label)\n",
    "    # convert the data and labels to NumPy arrays\n",
    "    data = np.array(data, dtype=\"float32\")\n",
    "    labels = np.array(labels, dtype=\"int\")\n",
    "    # bring values between 0 and 1\n",
    "    data /= 255.0\n",
    "    # return a 2-tuple of the A-Z data and labels\n",
    "    return (data, labels)"
   ]
  },
  {
   "cell_type": "code",
   "execution_count": 3,
   "id": "41f47cca-bb80-42ee-b5f7-8ef7cc1adfb9",
   "metadata": {},
   "outputs": [],
   "source": [
    "# retreive data and labels using our function defined above\n",
    "data, labels = load_az_dataset('data/NIST_SD19/A_Z Handwritten Data/A_Z Handwritten Data.csv')"
   ]
  },
  {
   "cell_type": "code",
   "execution_count": 4,
   "id": "50aa71d8-047a-4b76-8622-80b900748961",
   "metadata": {},
   "outputs": [],
   "source": [
    "# define labels\n",
    "alpha = \"ABCDEFGHIJKLMNOPQRSTUVWXYZ\"\n",
    "labelNames = [l for l in alpha]"
   ]
  },
  {
   "cell_type": "code",
   "execution_count": 5,
   "id": "ac884a1a-15ab-479f-b5c2-8b55dcc86fd4",
   "metadata": {},
   "outputs": [
    {
     "data": {
      "image/png": "[encoded data removed]",
      "text/plain": [
       "<Figure size 1080x1080 with 4 Axes>"
      ]
     },
     "metadata": {
      "needs_background": "light"
     },
     "output_type": "display_data"
    }
   ],
   "source": [
    "# plot first four images in data\n",
    "fig, axs = plt.subplots(1, 4)\n",
    "fig.set_figheight(15)\n",
    "fig.set_figwidth(15)\n",
    "for i in range(4):\n",
    "    axs[i].imshow(data[i])"
   ]
  },
  {
   "cell_type": "code",
   "execution_count": 6,
   "id": "0fbcaf52-5629-49f0-b907-2ea5177343bc",
   "metadata": {},
   "outputs": [],
   "source": [
    "# convert the labels from integers to vectors\n",
    "le = LabelBinarizer()\n",
    "labels = le.fit_transform(labels)"
   ]
  },
  {
   "cell_type": "code",
   "execution_count": 7,
   "id": "8e24fd49-cfce-491d-85cf-da72671c8fb8",
   "metadata": {},
   "outputs": [],
   "source": [
    "# split data and labels into train, test, validation\n",
    "X_train, X_test, y_train, y_test = train_test_split(data,\n",
    "                                                    labels,\n",
    "                                                    test_size=0.2,\n",
    "                                                    random_state=42)\n",
    "\n",
    "X_train, X_val, y_train, y_val = train_test_split(X_train,\n",
    "                                                    y_train,\n",
    "                                                    test_size=0.2,\n",
    "                                                    random_state=42)"
   ]
  },
  {
   "cell_type": "code",
   "execution_count": 8,
   "id": "f4e808d7-c9b5-4595-8dd5-94849be782eb",
   "metadata": {},
   "outputs": [],
   "source": [
    "# construct the image generator for data augmentation\n",
    "aug = tf.keras.preprocessing.image.ImageDataGenerator(\n",
    "    rotation_range=10,\n",
    "    zoom_range=0,\n",
    "    width_shift_range=0.1,\n",
    "    height_shift_range=0.1,\n",
    "    shear_range=0.15,\n",
    "    horizontal_flip=False,\n",
    "    fill_mode=\"nearest\")"
   ]
  },
  {
   "cell_type": "code",
   "execution_count": 9,
   "id": "1ff2d60e-d41f-4260-9e06-d4fe9a000ffb",
   "metadata": {},
   "outputs": [
    {
     "name": "stdout",
     "output_type": "stream",
     "text": [
      "Model: \"handwriting_recognizer\"\n",
      "_________________________________________________________________\n",
      " Layer (type)                Output Shape              Param #   \n",
      "=================================================================\n",
      " image (InputLayer)          [(None, 28, 28, 1)]       0         \n",
      "                                                                 \n",
      " Conv1 (Conv2D)              (None, 28, 28, 32)        320       \n",
      "                                                                 \n",
      " Conv2 (Conv2D)              (None, 28, 28, 64)        18496     \n",
      "                                                                 \n",
      " reshape (Reshape)           (None, 28, 1792)          0         \n",
      "                                                                 \n",
      " dense1 (Dense)              (None, 28, 64)            114752    \n",
      "                                                                 \n",
      " dropout (Dropout)           (None, 28, 64)            0         \n",
      "                                                                 \n",
      " bidirectional (Bidirectiona  (None, 28, 256)          197632    \n",
      " l)                                                              \n",
      "                                                                 \n",
      " bidirectional_1 (Bidirectio  (None, 28, 128)          164352    \n",
      " nal)                                                            \n",
      "                                                                 \n",
      " flatten (Flatten)           (None, 3584)              0         \n",
      "                                                                 \n",
      " dense2 (Dense)              (None, 26)                93210     \n",
      "                                                                 \n",
      "=================================================================\n",
      "Total params: 588,762\n",
      "Trainable params: 588,762\n",
      "Non-trainable params: 0\n",
      "_________________________________________________________________\n"
     ]
    }
   ],
   "source": [
    "# define model and retrieve a summary\n",
    "def build_model():\n",
    "    # Inputs to the model\n",
    "    inp = tf.keras.Input(shape=(28, 28, 1), name=\"image\")\n",
    "\n",
    "    # First conv block.\n",
    "    x = tf.keras.layers.Conv2D(\n",
    "        32,\n",
    "        (3, 3),\n",
    "        activation=\"relu\",\n",
    "        kernel_initializer=\"he_normal\",\n",
    "        padding=\"same\",\n",
    "        name=\"Conv1\",\n",
    "    )(inp)\n",
    "    # x = tf.keras.layers.MaxPooling2D((2, 2), name=\"pool1\")(x)\n",
    "\n",
    "    # Second conv block.\n",
    "    x = tf.keras.layers.Conv2D(\n",
    "        64,\n",
    "        (3, 3),\n",
    "        activation=\"relu\",\n",
    "        kernel_initializer=\"he_normal\",\n",
    "        padding=\"same\",\n",
    "        name=\"Conv2\",\n",
    "    )(x)\n",
    "    # x = tf.keras.layers.MaxPooling2D((2, 2), name=\"pool2\")(x)\n",
    "\n",
    "    # The number of filters in the last layer is 64. Reshape accordingly before\n",
    "    # passing the output to the RNN part of the model.\n",
    "    new_shape = (28, (28 * 64))\n",
    "    x = tf.keras.layers.Reshape(target_shape=new_shape, name=\"reshape\")(x)\n",
    "    x = tf.keras.layers.Dense(64, activation=\"relu\", name=\"dense1\")(x)\n",
    "    x = tf.keras.layers.Dropout(0.2)(x)\n",
    "\n",
    "    # RNNs.\n",
    "    x = tf.keras.layers.Bidirectional(\n",
    "        tf.keras.layers.LSTM(128, return_sequences=True, dropout=0.25)\n",
    "    )(x)\n",
    "    x = tf.keras.layers.Bidirectional(\n",
    "        tf.keras.layers.LSTM(64, return_sequences=True, dropout=0.25)\n",
    "    )(x)\n",
    "    \n",
    "    # flatten\n",
    "    x = tf.keras.layers.Flatten()(x)\n",
    "\n",
    "    output = tf.keras.layers.Dense(\n",
    "        len(labelNames), activation=\"softmax\", name=\"dense2\"\n",
    "    )(x)\n",
    "\n",
    "    # Define the model.\n",
    "    model = tf.keras.models.Model(\n",
    "        inputs=inp, outputs=output, name=\"handwriting_recognizer\"\n",
    "    )\n",
    "    # Optimizer.\n",
    "    opt = tf.keras.optimizers.Adam()\n",
    "    \n",
    "    # Compile the model and return.\n",
    "    model.compile(optimizer=opt, loss='categorical_crossentropy', metrics=['accuracy'])\n",
    "    return model\n",
    "\n",
    "\n",
    "# Get the model.\n",
    "model = build_model()\n",
    "model.summary()"
   ]
  },
  {
   "cell_type": "code",
   "execution_count": 10,
   "id": "9503e34e-2fd1-47c7-984e-ed9a4842e946",
   "metadata": {},
   "outputs": [
    {
     "name": "stdout",
     "output_type": "stream",
     "text": [
      "Epoch 1/50\n",
      "1863/1863 [==============================] - 66s 30ms/step - loss: 0.2229 - accuracy: 0.9336 - val_loss: 0.0721 - val_accuracy: 0.9807\n",
      "Epoch 2/50\n",
      "1863/1863 [==============================] - 55s 29ms/step - loss: 0.0871 - accuracy: 0.9745 - val_loss: 0.0588 - val_accuracy: 0.9840\n",
      "Epoch 3/50\n",
      "1863/1863 [==============================] - 54s 29ms/step - loss: 0.0704 - accuracy: 0.9794 - val_loss: 0.0482 - val_accuracy: 0.9874\n",
      "Epoch 4/50\n",
      "1863/1863 [==============================] - 54s 29ms/step - loss: 0.0612 - accuracy: 0.9822 - val_loss: 0.0407 - val_accuracy: 0.9892\n",
      "Epoch 5/50\n",
      "1863/1863 [==============================] - 54s 29ms/step - loss: 0.0550 - accuracy: 0.9838 - val_loss: 0.0444 - val_accuracy: 0.9881\n",
      "Epoch 6/50\n",
      "1863/1863 [==============================] - 54s 29ms/step - loss: 0.0508 - accuracy: 0.9849 - val_loss: 0.0378 - val_accuracy: 0.9898\n",
      "Epoch 7/50\n",
      "1863/1863 [==============================] - 53s 28ms/step - loss: 0.0464 - accuracy: 0.9862 - val_loss: 0.0361 - val_accuracy: 0.9897\n",
      "Epoch 8/50\n",
      "1863/1863 [==============================] - 54s 29ms/step - loss: 0.0446 - accuracy: 0.9865 - val_loss: 0.0361 - val_accuracy: 0.9902\n",
      "Epoch 9/50\n",
      "1863/1863 [==============================] - 53s 29ms/step - loss: 0.0419 - accuracy: 0.9872 - val_loss: 0.0361 - val_accuracy: 0.9903\n",
      "Epoch 10/50\n",
      "1863/1863 [==============================] - 54s 29ms/step - loss: 0.0396 - accuracy: 0.9880 - val_loss: 0.0325 - val_accuracy: 0.9913\n",
      "Epoch 11/50\n",
      "1863/1863 [==============================] - 53s 28ms/step - loss: 0.0369 - accuracy: 0.9886 - val_loss: 0.0336 - val_accuracy: 0.9913\n",
      "Epoch 12/50\n",
      "1863/1863 [==============================] - 53s 29ms/step - loss: 0.0360 - accuracy: 0.9890 - val_loss: 0.0323 - val_accuracy: 0.9912\n",
      "Epoch 13/50\n",
      "1863/1863 [==============================] - 53s 28ms/step - loss: 0.0358 - accuracy: 0.9890 - val_loss: 0.0318 - val_accuracy: 0.9915\n",
      "Epoch 14/50\n",
      "1863/1863 [==============================] - 56s 30ms/step - loss: 0.0335 - accuracy: 0.9896 - val_loss: 0.0303 - val_accuracy: 0.9918\n",
      "Epoch 15/50\n",
      "1863/1863 [==============================] - 54s 29ms/step - loss: 0.0330 - accuracy: 0.9898 - val_loss: 0.0290 - val_accuracy: 0.9922\n",
      "Epoch 16/50\n",
      "1863/1863 [==============================] - 54s 29ms/step - loss: 0.0317 - accuracy: 0.9903 - val_loss: 0.0298 - val_accuracy: 0.9919\n",
      "Epoch 17/50\n",
      "1863/1863 [==============================] - 53s 29ms/step - loss: 0.0313 - accuracy: 0.9900 - val_loss: 0.0306 - val_accuracy: 0.9916\n",
      "Epoch 18/50\n",
      "1863/1863 [==============================] - 53s 28ms/step - loss: 0.0304 - accuracy: 0.9904 - val_loss: 0.0290 - val_accuracy: 0.9920\n",
      "Epoch 19/50\n",
      "1863/1863 [==============================] - 54s 29ms/step - loss: 0.0285 - accuracy: 0.9910 - val_loss: 0.0309 - val_accuracy: 0.9916\n",
      "Epoch 20/50\n",
      "1863/1863 [==============================] - 56s 30ms/step - loss: 0.0296 - accuracy: 0.9907 - val_loss: 0.0273 - val_accuracy: 0.9930\n",
      "Epoch 21/50\n",
      "1863/1863 [==============================] - 54s 29ms/step - loss: 0.0282 - accuracy: 0.9912 - val_loss: 0.0286 - val_accuracy: 0.9925\n",
      "Epoch 22/50\n",
      "1863/1863 [==============================] - 54s 29ms/step - loss: 0.0272 - accuracy: 0.9915 - val_loss: 0.0294 - val_accuracy: 0.9924\n",
      "Epoch 23/50\n",
      "1863/1863 [==============================] - 54s 29ms/step - loss: 0.0269 - accuracy: 0.9916 - val_loss: 0.0281 - val_accuracy: 0.9930\n",
      "Epoch 24/50\n",
      "1863/1863 [==============================] - 54s 29ms/step - loss: 0.0260 - accuracy: 0.9916 - val_loss: 0.0298 - val_accuracy: 0.9921\n",
      "Epoch 25/50\n",
      "1863/1863 [==============================] - 54s 29ms/step - loss: 0.0264 - accuracy: 0.9915 - val_loss: 0.0264 - val_accuracy: 0.9928\n",
      "Epoch 26/50\n",
      "1863/1863 [==============================] - 53s 28ms/step - loss: 0.0255 - accuracy: 0.9919 - val_loss: 0.0260 - val_accuracy: 0.9934\n",
      "Epoch 27/50\n",
      "1863/1863 [==============================] - 53s 28ms/step - loss: 0.0248 - accuracy: 0.9921 - val_loss: 0.0262 - val_accuracy: 0.9934\n",
      "Epoch 28/50\n",
      "1863/1863 [==============================] - 53s 29ms/step - loss: 0.0254 - accuracy: 0.9920 - val_loss: 0.0274 - val_accuracy: 0.9930\n",
      "Epoch 29/50\n",
      "1863/1863 [==============================] - 54s 29ms/step - loss: 0.0243 - accuracy: 0.9921 - val_loss: 0.0264 - val_accuracy: 0.9933\n",
      "Epoch 30/50\n",
      "1863/1863 [==============================] - 53s 29ms/step - loss: 0.0243 - accuracy: 0.9922 - val_loss: 0.0251 - val_accuracy: 0.9937\n",
      "Epoch 31/50\n",
      "1863/1863 [==============================] - 53s 28ms/step - loss: 0.0240 - accuracy: 0.9922 - val_loss: 0.0258 - val_accuracy: 0.9931\n",
      "Epoch 32/50\n",
      "1863/1863 [==============================] - 53s 29ms/step - loss: 0.0236 - accuracy: 0.9924 - val_loss: 0.0257 - val_accuracy: 0.9935\n",
      "Epoch 33/50\n",
      "1863/1863 [==============================] - 53s 28ms/step - loss: 0.0230 - accuracy: 0.9925 - val_loss: 0.0243 - val_accuracy: 0.9939\n",
      "Epoch 34/50\n",
      "1863/1863 [==============================] - 53s 28ms/step - loss: 0.0226 - accuracy: 0.9928 - val_loss: 0.0245 - val_accuracy: 0.9934\n",
      "Epoch 35/50\n",
      "1863/1863 [==============================] - 56s 30ms/step - loss: 0.0223 - accuracy: 0.9928 - val_loss: 0.0258 - val_accuracy: 0.9938\n",
      "Epoch 36/50\n",
      "1863/1863 [==============================] - 54s 29ms/step - loss: 0.0224 - accuracy: 0.9929 - val_loss: 0.0255 - val_accuracy: 0.9934\n",
      "Epoch 37/50\n",
      "1863/1863 [==============================] - 54s 29ms/step - loss: 0.0220 - accuracy: 0.9929 - val_loss: 0.0239 - val_accuracy: 0.9940\n",
      "Epoch 38/50\n",
      "1863/1863 [==============================] - 53s 28ms/step - loss: 0.0213 - accuracy: 0.9932 - val_loss: 0.0243 - val_accuracy: 0.9941\n",
      "Epoch 39/50\n",
      "1863/1863 [==============================] - 53s 28ms/step - loss: 0.0217 - accuracy: 0.9930 - val_loss: 0.0248 - val_accuracy: 0.9939\n",
      "Epoch 40/50\n",
      "1863/1863 [==============================] - 53s 29ms/step - loss: 0.0210 - accuracy: 0.9933 - val_loss: 0.0247 - val_accuracy: 0.9940\n",
      "Epoch 41/50\n",
      "1863/1863 [==============================] - 53s 29ms/step - loss: 0.0209 - accuracy: 0.9932 - val_loss: 0.0260 - val_accuracy: 0.9936\n",
      "Epoch 42/50\n",
      "1863/1863 [==============================] - 52s 28ms/step - loss: 0.0210 - accuracy: 0.9933 - val_loss: 0.0240 - val_accuracy: 0.9941\n",
      "Epoch 43/50\n",
      "1863/1863 [==============================] - 53s 29ms/step - loss: 0.0205 - accuracy: 0.9933 - val_loss: 0.0257 - val_accuracy: 0.9935\n",
      "Epoch 44/50\n",
      "1863/1863 [==============================] - 52s 28ms/step - loss: 0.0206 - accuracy: 0.9932 - val_loss: 0.0238 - val_accuracy: 0.9939\n",
      "Epoch 45/50\n",
      "1863/1863 [==============================] - 53s 28ms/step - loss: 0.0201 - accuracy: 0.9934 - val_loss: 0.0251 - val_accuracy: 0.9939\n",
      "Epoch 46/50\n",
      "1863/1863 [==============================] - 53s 29ms/step - loss: 0.0198 - accuracy: 0.9936 - val_loss: 0.0241 - val_accuracy: 0.9942\n",
      "Epoch 47/50\n",
      "1863/1863 [==============================] - 53s 29ms/step - loss: 0.0190 - accuracy: 0.9938 - val_loss: 0.0240 - val_accuracy: 0.9942\n",
      "Epoch 48/50\n",
      "1863/1863 [==============================] - 53s 29ms/step - loss: 0.0196 - accuracy: 0.9935 - val_loss: 0.0240 - val_accuracy: 0.9941\n",
      "Epoch 49/50\n",
      "1863/1863 [==============================] - 54s 29ms/step - loss: 0.0193 - accuracy: 0.9938 - val_loss: 0.0251 - val_accuracy: 0.9935\n",
      "Epoch 50/50\n",
      "1863/1863 [==============================] - 53s 28ms/step - loss: 0.0192 - accuracy: 0.9937 - val_loss: 0.0236 - val_accuracy: 0.9943\n"
     ]
    }
   ],
   "source": [
    "# train model and produce history artifact\n",
    "\n",
    "model = build_model()\n",
    "prediction_model = tf.keras.models.Model(\n",
    "    model.get_layer(name=\"image\").input, model.get_layer(name=\"dense2\").output\n",
    ")\n",
    "\n",
    "history = model.fit(\n",
    "    aug.flow(X_train, y_train, batch_size=128),\n",
    "    validation_data=(X_val, y_val),\n",
    "    epochs=50\n",
    ")"
   ]
  },
  {
   "cell_type": "code",
   "execution_count": 11,
   "id": "ec90331a-9836-4ebd-b12e-b7459188308a",
   "metadata": {},
   "outputs": [],
   "source": [
    "# save model\n",
    "model.save('model/Complex_PostZoomFix.h5')"
   ]
  },
  {
   "cell_type": "code",
   "execution_count": 12,
   "id": "3f7ac842-ae77-4654-8c1b-73049e9f8e87",
   "metadata": {},
   "outputs": [],
   "source": [
    "# save model history\n",
    "with open('hist/Complex_PostZoomFix.hist', 'wb') as file_pi:\n",
    "        pickle.dump(history.history, file_pi)"
   ]
  },
  {
   "cell_type": "code",
   "execution_count": 13,
   "id": "a4bdfe75-de58-4079-86d8-565eb9210c0d",
   "metadata": {},
   "outputs": [
    {
     "data": {
      "text/plain": [
       "<matplotlib.legend.Legend at 0x2771ca70190>"
      ]
     },
     "execution_count": 13,
     "metadata": {},
     "output_type": "execute_result"
    },
    {
     "data": {
      "image/png": "[encoded data removed]",
      "text/plain": [
       "<Figure size 1440x360 with 2 Axes>"
      ]
     },
     "metadata": {},
     "output_type": "display_data"
    }
   ],
   "source": [
    "# show plots of both accuracy and loss vs training epochs\n",
    "N = np.arange(0, 50)\n",
    "plt.style.use('ggplot')\n",
    "\n",
    "fig, ax = plt.subplots(1, 2)\n",
    "\n",
    "fig.suptitle('Training Accuracy and Loss')\n",
    "fig.set_figheight(5)\n",
    "fig.set_figwidth(20)\n",
    "\n",
    "ax[0].plot(N, history.history[\"accuracy\"], label=\"training\")\n",
    "ax[0].plot(N, history.history[\"val_accuracy\"], label=\"validation\")\n",
    "ax[0].set(xlabel='Epoch #', ylabel='Accuracy')\n",
    "ax[0].legend(loc=\"lower left\")\n",
    "\n",
    "ax[1].plot(N, history.history[\"loss\"], label=\"training\")\n",
    "ax[1].plot(N, history.history[\"val_loss\"], label=\"validation\")\n",
    "ax[1].set(xlabel='Epoch #', ylabel='Loss')\n",
    "ax[1].legend(loc=\"lower left\")"
   ]
  },
  {
   "cell_type": "code",
   "execution_count": 14,
   "id": "a6fcfb1f-e1bc-42f8-a9ad-ae902c3e2344",
   "metadata": {},
   "outputs": [],
   "source": [
    "# save the above figure\n",
    "fig.savefig('hist/Complex_PostZoomFix.pdf', bbox_inches='tight')"
   ]
  },
  {
   "cell_type": "code",
   "execution_count": 15,
   "id": "b7cc87b4-8758-4dd2-9521-d106306e5588",
   "metadata": {},
   "outputs": [
    {
     "name": "stdout",
     "output_type": "stream",
     "text": [
      "              precision    recall  f1-score   support\n",
      "\n",
      "           A       1.00      1.00      1.00        92\n",
      "           B       0.98      0.98      0.98        64\n",
      "           C       0.99      1.00      1.00       201\n",
      "           D       0.94      1.00      0.97        67\n",
      "           E       1.00      1.00      1.00        78\n",
      "           F       1.00      1.00      1.00         8\n",
      "           G       0.98      0.98      0.98        41\n",
      "           H       1.00      1.00      1.00        55\n",
      "           I       1.00      1.00      1.00         9\n",
      "           J       0.99      0.99      0.99        68\n",
      "           K       0.98      1.00      0.99        41\n",
      "           L       1.00      0.99      0.99        85\n",
      "           M       1.00      1.00      1.00       100\n",
      "           N       1.00      1.00      1.00       186\n",
      "           O       1.00      0.99      0.99       480\n",
      "           P       1.00      1.00      1.00       150\n",
      "           Q       0.98      1.00      0.99        55\n",
      "           R       1.00      0.98      0.99        90\n",
      "           S       1.00      1.00      1.00       394\n",
      "           T       1.00      1.00      1.00       188\n",
      "           U       1.00      1.00      1.00       245\n",
      "           V       1.00      1.00      1.00        31\n",
      "           W       1.00      1.00      1.00        89\n",
      "           X       1.00      1.00      1.00        59\n",
      "           Y       1.00      0.99      0.99        67\n",
      "           Z       1.00      1.00      1.00        57\n",
      "\n",
      "    accuracy                           1.00      3000\n",
      "   macro avg       0.99      1.00      0.99      3000\n",
      "weighted avg       1.00      1.00      1.00      3000\n",
      "\n"
     ]
    }
   ],
   "source": [
    "# produce predictions on test set and display classification report\n",
    "predictions = model.predict(X_test[:3000])\n",
    "print(classification_report(y_test[:3000].argmax(axis=1), predictions.argmax(axis=1), target_names=labelNames))"
   ]
  },
  {
   "cell_type": "code",
   "execution_count": null,
   "id": "e361940f-b426-4d69-a0aa-fc9cb99969c1",
   "metadata": {},
   "outputs": [],
   "source": []
  }
 ],
 "metadata": {
  "kernelspec": {
   "display_name": "Python 3 (ipykernel)",
   "language": "python",
   "name": "python3"
  },
  "language_info": {
   "codemirror_mode": {
    "name": "ipython",
    "version": 3
   },
   "file_extension": ".py",
   "mimetype": "text/x-python",
   "name": "python",
   "nbconvert_exporter": "python",
   "pygments_lexer": "ipython3",
   "version": "3.9.7"
  }
 },
 "nbformat": 4,
 "nbformat_minor": 5
}
