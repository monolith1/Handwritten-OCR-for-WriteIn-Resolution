{
 "cells": [
  {
   "cell_type": "code",
   "execution_count": 1,
   "id": "6455c4ee-7b1f-4994-aae2-00f87099e605",
   "metadata": {},
   "outputs": [],
   "source": [
    "import tensorflow as tf\n",
    "import numpy as np\n",
    "from sklearn.preprocessing import LabelBinarizer\n",
    "from sklearn.model_selection import train_test_split\n",
    "from sklearn.metrics import classification_report"
   ]
  },
  {
   "cell_type": "code",
   "execution_count": 2,
   "id": "20faf43f-a989-4aa4-be04-92dc0ac3340c",
   "metadata": {},
   "outputs": [],
   "source": [
    "def load_az_dataset(datasetPath):\n",
    "    # initialize the list of data and labels\n",
    "    data = []\n",
    "    labels = []\n",
    "    # loop over the rows of the A-Z handwritten digit dataset\n",
    "    for row in open(datasetPath):\n",
    "        # parse the label and image from the row\n",
    "        row = row.split(\",\")\n",
    "        label = int(row[0])\n",
    "        image = np.array([int(x) for x in row[1:]], dtype=\"uint8\")\n",
    "        # images are represented as single channel (grayscale) images\n",
    "        # that are 28x28=784 pixels -- we need to take this flattened\n",
    "        # 784-d list of numbers and repshape them into a 28x28 matrix\n",
    "        image = image.reshape((28, 28))\n",
    "        # update the list of data and labels\n",
    "        data.append(image)\n",
    "        labels.append(label)\n",
    "    # convert the data and labels to NumPy arrays\n",
    "    data = np.array(data, dtype=\"float32\")\n",
    "    labels = np.array(labels, dtype=\"int\")\n",
    "    # return a 2-tuple of the A-Z data and labels\n",
    "    return (data, labels)"
   ]
  },
  {
   "cell_type": "code",
   "execution_count": 3,
   "id": "c46c3569-60ee-4069-a91d-377da9b914d0",
   "metadata": {},
   "outputs": [],
   "source": [
    "def load_mnist_dataset():\n",
    "    # load the MNIST dataset and stack the training data and testing\n",
    "    # data together (we'll create our own training and testing splits\n",
    "    # later in the project)\n",
    "    ((trainData, trainLabels), (testData, testLabels)) = tf.keras.datasets.mnist.load_data()\n",
    "    data = np.vstack([trainData, testData])\n",
    "    labels = np.hstack([trainLabels, testLabels])\n",
    "    # return a 2-tuple of the MNIST data and labels\n",
    "    return (data, labels)"
   ]
  },
  {
   "cell_type": "code",
   "execution_count": 4,
   "id": "41f47cca-bb80-42ee-b5f7-8ef7cc1adfb9",
   "metadata": {},
   "outputs": [],
   "source": [
    "(azData, azLabels) = load_az_dataset('NIST_SD19/A_Z Handwritten Data/A_Z Handwritten Data.csv')\n",
    "(digitsData, digitsLabels) = load_mnist_dataset()"
   ]
  },
  {
   "cell_type": "code",
   "execution_count": 5,
   "id": "a88c5181-6b8e-4ad6-b500-321750738863",
   "metadata": {},
   "outputs": [],
   "source": [
    "azLabels += 10\n",
    "data = np.vstack([azData, digitsData])\n",
    "labels = np.hstack([azLabels, digitsLabels])"
   ]
  },
  {
   "cell_type": "code",
   "execution_count": 6,
   "id": "91e81d4e-5f01-42ce-8a5b-0cd2de771ced",
   "metadata": {},
   "outputs": [],
   "source": [
    "# convert the labels from integers to vectors\n",
    "le = LabelBinarizer()\n",
    "labels = le.fit_transform(labels)\n",
    "counts = labels.sum(axis=0)\n",
    "# account for skew in the labeled data\n",
    "classTotals = labels.sum(axis=0)\n",
    "classWeight = {}\n",
    "# loop over all classes and calculate the class weight\n",
    "for i in range(0, len(classTotals)):\n",
    "\tclassWeight[i] = classTotals.max() / classTotals[i]"
   ]
  },
  {
   "cell_type": "code",
   "execution_count": 7,
   "id": "50aa71d8-047a-4b76-8622-80b900748961",
   "metadata": {
    "tags": []
   },
   "outputs": [],
   "source": [
    "labelNames = \"0123456789\"\n",
    "labelNames += \"ABCDEFGHIJKLMNOPQRSTUVWXYZ\"\n",
    "labelNames = [l for l in labelNames]"
   ]
  },
  {
   "cell_type": "code",
   "execution_count": 8,
   "id": "8e24fd49-cfce-491d-85cf-da72671c8fb8",
   "metadata": {},
   "outputs": [],
   "source": [
    "X_train, X_test, y_train, y_test = train_test_split(data,\n",
    "                                                    labels,\n",
    "                                                    test_size=0.2,\n",
    "                                                    random_state=42)\n",
    "\n",
    "X_train, X_val, y_train, y_val = train_test_split(X_train,\n",
    "                                                    y_train,\n",
    "                                                    test_size=0.2,\n",
    "                                                    random_state=42)"
   ]
  },
  {
   "cell_type": "code",
   "execution_count": 10,
   "id": "ee546d6d-2b0a-4f80-b460-b88279b15c43",
   "metadata": {},
   "outputs": [
    {
     "name": "stdout",
     "output_type": "stream",
     "text": [
      "Model: \"sequential\"\n",
      "_________________________________________________________________\n",
      " Layer (type)                Output Shape              Param #   \n",
      "=================================================================\n",
      " flatten (Flatten)           (None, 784)               0         \n",
      "                                                                 \n",
      " dense (Dense)               (None, 128)               100480    \n",
      "                                                                 \n",
      " dense_1 (Dense)             (None, 36)                4644      \n",
      "                                                                 \n",
      "=================================================================\n",
      "Total params: 105,124\n",
      "Trainable params: 105,124\n",
      "Non-trainable params: 0\n",
      "_________________________________________________________________\n"
     ]
    }
   ],
   "source": [
    "model = tf.keras.models.Sequential([\n",
    "  tf.keras.layers.Flatten(input_shape=(28, 28)),\n",
    "  tf.keras.layers.Dense(128,activation='relu'),\n",
    "  tf.keras.layers.Dense(36, activation='softmax')\n",
    "])\n",
    "model.summary()"
   ]
  },
  {
   "cell_type": "code",
   "execution_count": 11,
   "id": "d19c046b-aaf5-42b8-8145-ff4e3e8e7390",
   "metadata": {},
   "outputs": [],
   "source": [
    "model.compile(optimizer='adam', loss='categorical_crossentropy', metrics=['accuracy'])"
   ]
  },
  {
   "cell_type": "code",
   "execution_count": 12,
   "id": "c3a60e11-0a3c-4d1d-83e8-2451d3ce620c",
   "metadata": {},
   "outputs": [
    {
     "name": "stdout",
     "output_type": "stream",
     "text": [
      "Epoch 1/50\n",
      "8849/8849 [==============================] - 31s 3ms/step - loss: 1.7123 - accuracy: 0.6752 - val_loss: 0.8356 - val_accuracy: 0.7884\n",
      "Epoch 2/50\n",
      "8849/8849 [==============================] - 32s 4ms/step - loss: 0.7872 - accuracy: 0.8024 - val_loss: 0.7441 - val_accuracy: 0.8102\n",
      "Epoch 3/50\n",
      "8849/8849 [==============================] - 32s 4ms/step - loss: 0.7342 - accuracy: 0.8176 - val_loss: 0.7527 - val_accuracy: 0.8139\n",
      "Epoch 4/50\n",
      "8849/8849 [==============================] - 33s 4ms/step - loss: 0.7137 - accuracy: 0.8246 - val_loss: 0.7027 - val_accuracy: 0.8259\n",
      "Epoch 5/50\n",
      "8849/8849 [==============================] - 32s 4ms/step - loss: 0.7083 - accuracy: 0.8284 - val_loss: 0.7101 - val_accuracy: 0.8252\n",
      "Epoch 6/50\n",
      "8849/8849 [==============================] - 32s 4ms/step - loss: 0.7051 - accuracy: 0.8307 - val_loss: 0.7360 - val_accuracy: 0.8276\n",
      "Epoch 7/50\n",
      "8849/8849 [==============================] - 33s 4ms/step - loss: 0.7024 - accuracy: 0.8317 - val_loss: 0.7346 - val_accuracy: 0.8355\n",
      "Epoch 8/50\n",
      "8849/8849 [==============================] - 33s 4ms/step - loss: 0.7018 - accuracy: 0.8332 - val_loss: 0.7613 - val_accuracy: 0.8357\n",
      "Epoch 9/50\n",
      "8849/8849 [==============================] - 33s 4ms/step - loss: 0.6993 - accuracy: 0.8334 - val_loss: 0.7510 - val_accuracy: 0.8263\n",
      "Epoch 10/50\n",
      "8849/8849 [==============================] - 32s 4ms/step - loss: 0.7014 - accuracy: 0.8343 - val_loss: 0.8124 - val_accuracy: 0.8120\n",
      "Epoch 11/50\n",
      "8849/8849 [==============================] - 34s 4ms/step - loss: 0.6985 - accuracy: 0.8345 - val_loss: 0.7291 - val_accuracy: 0.8304\n",
      "Epoch 12/50\n",
      "8849/8849 [==============================] - 33s 4ms/step - loss: 0.6976 - accuracy: 0.8349 - val_loss: 0.8271 - val_accuracy: 0.8369\n",
      "Epoch 13/50\n",
      "8849/8849 [==============================] - 33s 4ms/step - loss: 0.7017 - accuracy: 0.8353 - val_loss: 0.7534 - val_accuracy: 0.8390\n",
      "Epoch 14/50\n",
      "8849/8849 [==============================] - 34s 4ms/step - loss: 0.7022 - accuracy: 0.8356 - val_loss: 0.7619 - val_accuracy: 0.8410\n",
      "Epoch 15/50\n",
      "8849/8849 [==============================] - 34s 4ms/step - loss: 0.7002 - accuracy: 0.8351 - val_loss: 0.7785 - val_accuracy: 0.8282\n",
      "Epoch 16/50\n",
      "8849/8849 [==============================] - 34s 4ms/step - loss: 0.7028 - accuracy: 0.8348 - val_loss: 0.8280 - val_accuracy: 0.8156\n",
      "Epoch 17/50\n",
      "8849/8849 [==============================] - 33s 4ms/step - loss: 0.7042 - accuracy: 0.8346 - val_loss: 0.7915 - val_accuracy: 0.8348\n",
      "Epoch 18/50\n",
      "8849/8849 [==============================] - 34s 4ms/step - loss: 0.7072 - accuracy: 0.8349 - val_loss: 0.8584 - val_accuracy: 0.8296\n",
      "Epoch 19/50\n",
      "8849/8849 [==============================] - 33s 4ms/step - loss: 0.7031 - accuracy: 0.8359 - val_loss: 0.8365 - val_accuracy: 0.8225\n",
      "Epoch 20/50\n",
      "8849/8849 [==============================] - 34s 4ms/step - loss: 0.7030 - accuracy: 0.8345 - val_loss: 0.7790 - val_accuracy: 0.8221\n",
      "Epoch 21/50\n",
      "8849/8849 [==============================] - 33s 4ms/step - loss: 0.7044 - accuracy: 0.8347 - val_loss: 0.8607 - val_accuracy: 0.8166\n",
      "Epoch 22/50\n",
      "8849/8849 [==============================] - 33s 4ms/step - loss: 0.7056 - accuracy: 0.8342 - val_loss: 0.7820 - val_accuracy: 0.8327\n",
      "Epoch 23/50\n",
      "8849/8849 [==============================] - 34s 4ms/step - loss: 0.7027 - accuracy: 0.8356 - val_loss: 0.7987 - val_accuracy: 0.8202\n",
      "Epoch 24/50\n",
      "8849/8849 [==============================] - 33s 4ms/step - loss: 0.7089 - accuracy: 0.8341 - val_loss: 0.7992 - val_accuracy: 0.8298\n",
      "Epoch 25/50\n",
      "8849/8849 [==============================] - 33s 4ms/step - loss: 0.6998 - accuracy: 0.8367 - val_loss: 0.8436 - val_accuracy: 0.8269\n",
      "Epoch 26/50\n",
      "8849/8849 [==============================] - 33s 4ms/step - loss: 0.7046 - accuracy: 0.8362 - val_loss: 0.8232 - val_accuracy: 0.8305\n",
      "Epoch 27/50\n",
      "8849/8849 [==============================] - 34s 4ms/step - loss: 0.6984 - accuracy: 0.8367 - val_loss: 0.8131 - val_accuracy: 0.8352\n",
      "Epoch 28/50\n",
      "8849/8849 [==============================] - 33s 4ms/step - loss: 0.7075 - accuracy: 0.8359 - val_loss: 0.8691 - val_accuracy: 0.8314\n",
      "Epoch 29/50\n",
      "8849/8849 [==============================] - 34s 4ms/step - loss: 0.7105 - accuracy: 0.8344 - val_loss: 0.8837 - val_accuracy: 0.8249\n",
      "Epoch 30/50\n",
      "8849/8849 [==============================] - 33s 4ms/step - loss: 0.7051 - accuracy: 0.8356 - val_loss: 0.8485 - val_accuracy: 0.8372\n",
      "Epoch 31/50\n",
      "8849/8849 [==============================] - 34s 4ms/step - loss: 0.7059 - accuracy: 0.8359 - val_loss: 0.8798 - val_accuracy: 0.7952\n",
      "Epoch 32/50\n",
      "8849/8849 [==============================] - 33s 4ms/step - loss: 0.7056 - accuracy: 0.8360 - val_loss: 0.8683 - val_accuracy: 0.8143\n",
      "Epoch 33/50\n",
      "8849/8849 [==============================] - 28s 3ms/step - loss: 0.7024 - accuracy: 0.8356 - val_loss: 0.8304 - val_accuracy: 0.8343\n",
      "Epoch 34/50\n",
      "8849/8849 [==============================] - 32s 4ms/step - loss: 0.7070 - accuracy: 0.8350 - val_loss: 0.8693 - val_accuracy: 0.8214\n",
      "Epoch 35/50\n",
      "8849/8849 [==============================] - 29s 3ms/step - loss: 0.7067 - accuracy: 0.8363 - val_loss: 0.8832 - val_accuracy: 0.8125\n",
      "Epoch 36/50\n",
      "8849/8849 [==============================] - 30s 3ms/step - loss: 0.7102 - accuracy: 0.8352 - val_loss: 0.8418 - val_accuracy: 0.8358\n",
      "Epoch 37/50\n",
      "8849/8849 [==============================] - 31s 4ms/step - loss: 0.7105 - accuracy: 0.8355 - val_loss: 0.9294 - val_accuracy: 0.8282\n",
      "Epoch 38/50\n",
      "8849/8849 [==============================] - 30s 3ms/step - loss: 0.7128 - accuracy: 0.8345 - val_loss: 0.8911 - val_accuracy: 0.8163\n",
      "Epoch 39/50\n",
      "8849/8849 [==============================] - 31s 4ms/step - loss: 0.7124 - accuracy: 0.8357 - val_loss: 0.8407 - val_accuracy: 0.8273\n",
      "Epoch 40/50\n",
      "8849/8849 [==============================] - 32s 4ms/step - loss: 0.7062 - accuracy: 0.8352 - val_loss: 0.9012 - val_accuracy: 0.8319\n",
      "Epoch 41/50\n",
      "8849/8849 [==============================] - 30s 3ms/step - loss: 0.7124 - accuracy: 0.8348 - val_loss: 0.9378 - val_accuracy: 0.8299\n",
      "Epoch 42/50\n",
      "8849/8849 [==============================] - 26s 3ms/step - loss: 0.7170 - accuracy: 0.8347 - val_loss: 1.0039 - val_accuracy: 0.8394\n",
      "Epoch 43/50\n",
      "8849/8849 [==============================] - 28s 3ms/step - loss: 0.7166 - accuracy: 0.8346 - val_loss: 0.9565 - val_accuracy: 0.8074\n",
      "Epoch 44/50\n",
      "8849/8849 [==============================] - 29s 3ms/step - loss: 0.7095 - accuracy: 0.8353 - val_loss: 0.9110 - val_accuracy: 0.8230\n",
      "Epoch 45/50\n",
      "8849/8849 [==============================] - 30s 3ms/step - loss: 0.7251 - accuracy: 0.8330 - val_loss: 0.9120 - val_accuracy: 0.8216\n",
      "Epoch 46/50\n",
      "8849/8849 [==============================] - 30s 3ms/step - loss: 0.7140 - accuracy: 0.8344 - val_loss: 0.9480 - val_accuracy: 0.8170\n",
      "Epoch 47/50\n",
      "8849/8849 [==============================] - 30s 3ms/step - loss: 0.7122 - accuracy: 0.8340 - val_loss: 0.8968 - val_accuracy: 0.8238\n",
      "Epoch 48/50\n",
      "8849/8849 [==============================] - 30s 3ms/step - loss: 0.7192 - accuracy: 0.8338 - val_loss: 0.9214 - val_accuracy: 0.8200\n",
      "Epoch 49/50\n",
      "8849/8849 [==============================] - 31s 3ms/step - loss: 0.7214 - accuracy: 0.8336 - val_loss: 0.9281 - val_accuracy: 0.8358\n",
      "Epoch 50/50\n",
      "8849/8849 [==============================] - 30s 3ms/step - loss: 0.7148 - accuracy: 0.8353 - val_loss: 0.8754 - val_accuracy: 0.8324\n"
     ]
    }
   ],
   "source": [
    "history = model.fit(X_train, y_train, validation_data=(X_val, y_val), epochs=50)"
   ]
  },
  {
   "cell_type": "code",
   "execution_count": 10,
   "id": "7042a593-4d5a-474b-bf8e-a229e00f0f8b",
   "metadata": {},
   "outputs": [],
   "source": [
    "# optional model load\n",
    "model = tf.keras.models.load_model('model/basic.h5')"
   ]
  },
  {
   "cell_type": "code",
   "execution_count": 14,
   "id": "96f26628-3444-4471-9b40-43a3d1948c16",
   "metadata": {},
   "outputs": [
    {
     "name": "stdout",
     "output_type": "stream",
     "text": [
      "              precision    recall  f1-score   support\n",
      "\n",
      "           0       1.00      0.57      0.73        40\n",
      "           1       0.93      0.83      0.88        64\n",
      "           2       0.85      0.69      0.76        48\n",
      "           3       0.80      0.65      0.72        43\n",
      "           4       0.76      0.52      0.62        50\n",
      "           5       0.94      0.69      0.79        45\n",
      "           6       1.00      0.85      0.92        46\n",
      "           7       0.91      0.87      0.89        46\n",
      "           8       0.67      0.59      0.63        49\n",
      "           9       0.82      0.93      0.87        40\n",
      "           A       0.86      0.86      0.86        90\n",
      "           B       0.65      0.55      0.60        62\n",
      "           C       0.90      0.93      0.92       143\n",
      "           D       0.76      0.83      0.79        72\n",
      "           E       0.75      0.88      0.81        88\n",
      "           F       1.00      0.50      0.67         4\n",
      "           G       0.59      0.47      0.52        34\n",
      "           H       0.59      0.52      0.55        46\n",
      "           I       0.00      0.00      0.00         8\n",
      "           J       0.70      0.80      0.75        59\n",
      "           K       0.74      0.62      0.67        47\n",
      "           L       0.96      0.86      0.90        83\n",
      "           M       0.88      0.81      0.85        81\n",
      "           N       0.69      0.74      0.71       115\n",
      "           O       0.91      0.95      0.93       414\n",
      "           P       0.95      0.95      0.95       138\n",
      "           Q       0.33      0.76      0.46        46\n",
      "           R       0.66      0.79      0.72        67\n",
      "           S       0.91      0.92      0.92       337\n",
      "           T       1.00      0.96      0.98       157\n",
      "           U       0.85      0.91      0.88       197\n",
      "           V       0.96      1.00      0.98        22\n",
      "           W       0.84      0.77      0.80        66\n",
      "           X       0.93      0.88      0.90        42\n",
      "           Y       0.88      0.86      0.87        69\n",
      "           Z       0.87      0.79      0.82        42\n",
      "\n",
      "    accuracy                           0.84      3000\n",
      "   macro avg       0.80      0.75      0.77      3000\n",
      "weighted avg       0.85      0.84      0.84      3000\n",
      "\n"
     ]
    },
    {
     "name": "stderr",
     "output_type": "stream",
     "text": [
      "C:\\Users\\monol\\anaconda3\\lib\\site-packages\\sklearn\\metrics\\_classification.py:1308: UndefinedMetricWarning: Precision and F-score are ill-defined and being set to 0.0 in labels with no predicted samples. Use `zero_division` parameter to control this behavior.\n",
      "  _warn_prf(average, modifier, msg_start, len(result))\n",
      "C:\\Users\\monol\\anaconda3\\lib\\site-packages\\sklearn\\metrics\\_classification.py:1308: UndefinedMetricWarning: Precision and F-score are ill-defined and being set to 0.0 in labels with no predicted samples. Use `zero_division` parameter to control this behavior.\n",
      "  _warn_prf(average, modifier, msg_start, len(result))\n",
      "C:\\Users\\monol\\anaconda3\\lib\\site-packages\\sklearn\\metrics\\_classification.py:1308: UndefinedMetricWarning: Precision and F-score are ill-defined and being set to 0.0 in labels with no predicted samples. Use `zero_division` parameter to control this behavior.\n",
      "  _warn_prf(average, modifier, msg_start, len(result))\n"
     ]
    }
   ],
   "source": [
    "predictions = model.predict(X_test[:3000])\n",
    "print(classification_report(y_test[:3000].argmax(axis=1), predictions.argmax(axis=1), target_names=labelNames))"
   ]
  },
  {
   "cell_type": "code",
   "execution_count": 16,
   "id": "d7a72091-2fe2-44c1-95ad-fd663917d26a",
   "metadata": {},
   "outputs": [
    {
     "data": {
      "text/plain": [
       "(3000, 36)"
      ]
     },
     "execution_count": 16,
     "metadata": {},
     "output_type": "execute_result"
    }
   ],
   "source": [
    "predictions.shape"
   ]
  },
  {
   "cell_type": "code",
   "execution_count": 12,
   "id": "24d5ae7d-38cb-4772-8140-b95cb05caff2",
   "metadata": {},
   "outputs": [
    {
     "name": "stdout",
     "output_type": "stream",
     "text": [
      "Running on local URL:  http://127.0.0.1:7861/\n",
      "Running on public URL: https://57809.gradio.app\n",
      "\n",
      "This share link expires in 72 hours. For free permanent hosting, check out Spaces (https://huggingface.co/spaces)\n"
     ]
    },
    {
     "data": {
      "text/html": [
       "\n",
       "        <iframe\n",
       "            width=\"900\"\n",
       "            height=\"500\"\n",
       "            src=\"https://57809.gradio.app\"\n",
       "            frameborder=\"0\"\n",
       "            allowfullscreen\n",
       "            \n",
       "        ></iframe>\n",
       "        "
      ],
      "text/plain": [
       "<IPython.lib.display.IFrame at 0x174c2387af0>"
      ]
     },
     "metadata": {},
     "output_type": "display_data"
    },
    {
     "data": {
      "text/plain": [
       "(<Flask 'gradio.networking'>,\n",
       " 'http://127.0.0.1:7861/',\n",
       " 'https://57809.gradio.app')"
      ]
     },
     "execution_count": 12,
     "metadata": {},
     "output_type": "execute_result"
    }
   ],
   "source": [
    "import gradio as gr\n",
    "\n",
    "def classify(input):\n",
    "    prediction = model.predict(input.reshape(1, 28, 28)).tolist()[0]\n",
    "    return {str(label): prediction[i] for i, label in enumerate(labelNames)}\n",
    "\n",
    "label = gr.outputs.Label(num_top_classes=3)\n",
    "interface = gr.Interface(fn=classify, inputs=\"sketchpad\", outputs=label)\n",
    "interface.launch(share=True)"
   ]
  },
  {
   "cell_type": "code",
   "execution_count": 15,
   "id": "539acf0a-64df-47f5-89b8-9c507300ad44",
   "metadata": {},
   "outputs": [],
   "source": [
    "model.save('model/Basic_Model.model')"
   ]
  },
  {
   "cell_type": "code",
   "execution_count": 18,
   "id": "39729118-7028-4606-b4fc-9291eb0ea778",
   "metadata": {},
   "outputs": [],
   "source": [
    "import pickle\n",
    "\n",
    "with open('hist/Basic_Model.hist', 'wb') as file_pi:\n",
    "        pickle.dump(history.history, file_pi)"
   ]
  }
 ],
 "metadata": {
  "kernelspec": {
   "display_name": "Python 3 (ipykernel)",
   "language": "python",
   "name": "python3"
  },
  "language_info": {
   "codemirror_mode": {
    "name": "ipython",
    "version": 3
   },
   "file_extension": ".py",
   "mimetype": "text/x-python",
   "name": "python",
   "nbconvert_exporter": "python",
   "pygments_lexer": "ipython3",
   "version": "3.9.7"
  }
 },
 "nbformat": 4,
 "nbformat_minor": 5
}
