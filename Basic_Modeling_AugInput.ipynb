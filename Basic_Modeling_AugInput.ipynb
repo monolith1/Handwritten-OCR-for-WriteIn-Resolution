{
 "cells": [
  {
   "cell_type": "markdown",
   "id": "adeee737-01fc-44d5-a3d5-8e7f4eb42481",
   "metadata": {},
   "source": [
    "# Modeling - Simple Model with Augmented Input"
   ]
  },
  {
   "cell_type": "code",
   "execution_count": 12,
   "id": "6455c4ee-7b1f-4994-aae2-00f87099e605",
   "metadata": {},
   "outputs": [],
   "source": [
    "# import necessary packages\n",
    "import tensorflow as tf\n",
    "import numpy as np\n",
    "from sklearn.preprocessing import LabelBinarizer\n",
    "from sklearn.model_selection import train_test_split\n",
    "from sklearn.metrics import classification_report, accuracy_score\n",
    "import matplotlib.pyplot as plt\n",
    "import pickle"
   ]
  },
  {
   "cell_type": "code",
   "execution_count": 2,
   "id": "20faf43f-a989-4aa4-be04-92dc0ac3340c",
   "metadata": {},
   "outputs": [],
   "source": [
    "def load_az_dataset(datasetPath):\n",
    "    # initialize the list of data and labels\n",
    "    data = []\n",
    "    labels = []\n",
    "    # loop over the rows of the A-Z handwritten digit dataset\n",
    "    for row in open(datasetPath):\n",
    "        # parse the label and image from the row\n",
    "        row = row.split(\",\")\n",
    "        label = int(row[0])\n",
    "        image = np.array([int(x) for x in row[1:]], dtype=\"uint8\")\n",
    "        # images are represented as single channel (grayscale) images\n",
    "        # that are 28x28=784 pixels -- we need to take this flattened\n",
    "        # 784-d list of numbers and repshape them into a 28x28 matrix\n",
    "        image = image.reshape((28, 28, 1))\n",
    "        # update the list of data and labels\n",
    "        data.append(image)\n",
    "        labels.append(label)\n",
    "    # convert the data and labels to NumPy arrays\n",
    "    data = np.array(data, dtype=\"float32\")\n",
    "    labels = np.array(labels, dtype=\"int\")\n",
    "    # bring values between 0 and 1\n",
    "    data /= 255.0\n",
    "    # return a 2-tuple of the A-Z data and labels\n",
    "    return (data, labels)"
   ]
  },
  {
   "cell_type": "code",
   "execution_count": 3,
   "id": "37fdf39e-d356-425a-b1dd-855fe0e18600",
   "metadata": {},
   "outputs": [],
   "source": [
    "# retreive data and labels using our function defined above\n",
    "data, labels = load_az_dataset('data/NIST_SD19/A_Z Handwritten Data/A_Z Handwritten Data.csv')"
   ]
  },
  {
   "cell_type": "code",
   "execution_count": 4,
   "id": "50aa71d8-047a-4b76-8622-80b900748961",
   "metadata": {
    "tags": []
   },
   "outputs": [],
   "source": [
    "# define labels\n",
    "alpha = \"ABCDEFGHIJKLMNOPQRSTUVWXYZ\"\n",
    "labelNames = [l for l in alpha]"
   ]
  },
  {
   "cell_type": "code",
   "execution_count": 5,
   "id": "37eaa42d-be78-4e48-abe9-abb6a69c0bb3",
   "metadata": {},
   "outputs": [
    {
     "data": {
      "image/png": "[encoded data removed]",
      "text/plain": [
       "<Figure size 1080x1080 with 4 Axes>"
      ]
     },
     "metadata": {
      "needs_background": "light"
     },
     "output_type": "display_data"
    }
   ],
   "source": [
    "# plot first four images in data\n",
    "fig, axs = plt.subplots(1, 4)\n",
    "fig.set_figheight(15)\n",
    "fig.set_figwidth(15)\n",
    "for i in range(4):\n",
    "    axs[i].imshow(data[i])"
   ]
  },
  {
   "cell_type": "code",
   "execution_count": 6,
   "id": "91e81d4e-5f01-42ce-8a5b-0cd2de771ced",
   "metadata": {},
   "outputs": [],
   "source": [
    "# convert the labels from integers to vectors\n",
    "le = LabelBinarizer()\n",
    "labels = le.fit_transform(labels)"
   ]
  },
  {
   "cell_type": "code",
   "execution_count": 7,
   "id": "8e24fd49-cfce-491d-85cf-da72671c8fb8",
   "metadata": {},
   "outputs": [],
   "source": [
    "# split data and labels into train, test, validation\n",
    "X_train, X_test, y_train, y_test = train_test_split(data,\n",
    "                                                    labels,\n",
    "                                                    test_size=0.2,\n",
    "                                                    random_state=42)\n",
    "\n",
    "X_train, X_val, y_train, y_val = train_test_split(X_train,\n",
    "                                                    y_train,\n",
    "                                                    test_size=0.2,\n",
    "                                                    random_state=42)"
   ]
  },
  {
   "cell_type": "code",
   "execution_count": 8,
   "id": "8d9c5c8c-356c-45f9-92fb-2fd1da9aa3e8",
   "metadata": {},
   "outputs": [],
   "source": [
    "# construct the image generator for data augmentation\n",
    "aug = tf.keras.preprocessing.image.ImageDataGenerator(\n",
    "    rotation_range=10,\n",
    "    zoom_range=0.05,\n",
    "    width_shift_range=0.1,\n",
    "    height_shift_range=0.1,\n",
    "    shear_range=0.15,\n",
    "    horizontal_flip=False,\n",
    "    fill_mode=\"nearest\")"
   ]
  },
  {
   "cell_type": "code",
   "execution_count": 9,
   "id": "ee546d6d-2b0a-4f80-b460-b88279b15c43",
   "metadata": {},
   "outputs": [
    {
     "name": "stdout",
     "output_type": "stream",
     "text": [
      "Model: \"sequential\"\n",
      "_________________________________________________________________\n",
      " Layer (type)                Output Shape              Param #   \n",
      "=================================================================\n",
      " flatten (Flatten)           (None, 784)               0         \n",
      "                                                                 \n",
      " dense (Dense)               (None, 128)               100480    \n",
      "                                                                 \n",
      " dense_1 (Dense)             (None, 26)                3354      \n",
      "                                                                 \n",
      "=================================================================\n",
      "Total params: 103,834\n",
      "Trainable params: 103,834\n",
      "Non-trainable params: 0\n",
      "_________________________________________________________________\n"
     ]
    }
   ],
   "source": [
    "# define model and retrieve a summary\n",
    "model = tf.keras.models.Sequential([\n",
    "  tf.keras.layers.Flatten(input_shape=(28, 28)),\n",
    "  tf.keras.layers.Dense(128,activation='relu'),\n",
    "  tf.keras.layers.Dense(len(labelNames), activation='softmax')\n",
    "])\n",
    "model.summary()"
   ]
  },
  {
   "cell_type": "code",
   "execution_count": 10,
   "id": "d19c046b-aaf5-42b8-8145-ff4e3e8e7390",
   "metadata": {},
   "outputs": [],
   "source": [
    "# compile model\n",
    "model.compile(optimizer='adam', loss='categorical_crossentropy', metrics=['accuracy'])"
   ]
  },
  {
   "cell_type": "code",
   "execution_count": 11,
   "id": "c3a60e11-0a3c-4d1d-83e8-2451d3ce620c",
   "metadata": {},
   "outputs": [
    {
     "name": "stdout",
     "output_type": "stream",
     "text": [
      "Epoch 1/50\n",
      "WARNING:tensorflow:Model was constructed with shape (None, 28, 28) for input KerasTensor(type_spec=TensorSpec(shape=(None, 28, 28), dtype=tf.float32, name='flatten_input'), name='flatten_input', description=\"created by layer 'flatten_input'\"), but it was called on an input with incompatible shape (None, None, None, None).\n",
      "WARNING:tensorflow:Model was constructed with shape (None, 28, 28) for input KerasTensor(type_spec=TensorSpec(shape=(None, 28, 28), dtype=tf.float32, name='flatten_input'), name='flatten_input', description=\"created by layer 'flatten_input'\"), but it was called on an input with incompatible shape (None, None, None, None).\n",
      "1863/1863 [==============================] - 43s 22ms/step - loss: 0.7762 - accuracy: 0.7878 - val_loss: 0.2685 - val_accuracy: 0.9316\n",
      "Epoch 2/50\n",
      "1863/1863 [==============================] - 43s 23ms/step - loss: 0.3468 - accuracy: 0.9045 - val_loss: 0.1938 - val_accuracy: 0.9492\n",
      "Epoch 3/50\n",
      "1863/1863 [==============================] - 42s 23ms/step - loss: 0.2708 - accuracy: 0.9241 - val_loss: 0.1655 - val_accuracy: 0.9545\n",
      "Epoch 4/50\n",
      "1863/1863 [==============================] - 42s 22ms/step - loss: 0.2365 - accuracy: 0.9338 - val_loss: 0.1499 - val_accuracy: 0.9592\n",
      "Epoch 5/50\n",
      "1863/1863 [==============================] - 42s 23ms/step - loss: 0.2149 - accuracy: 0.9400 - val_loss: 0.1377 - val_accuracy: 0.9624\n",
      "Epoch 6/50\n",
      "1863/1863 [==============================] - 42s 22ms/step - loss: 0.2016 - accuracy: 0.9434 - val_loss: 0.1284 - val_accuracy: 0.9652\n",
      "Epoch 7/50\n",
      "1863/1863 [==============================] - 42s 22ms/step - loss: 0.1907 - accuracy: 0.9469 - val_loss: 0.1286 - val_accuracy: 0.9650\n",
      "Epoch 8/50\n",
      "1863/1863 [==============================] - 42s 23ms/step - loss: 0.1824 - accuracy: 0.9491 - val_loss: 0.1273 - val_accuracy: 0.9642\n",
      "Epoch 9/50\n",
      "1863/1863 [==============================] - 42s 23ms/step - loss: 0.1758 - accuracy: 0.9502 - val_loss: 0.1249 - val_accuracy: 0.9657\n",
      "Epoch 10/50\n",
      "1863/1863 [==============================] - 42s 22ms/step - loss: 0.1699 - accuracy: 0.9525 - val_loss: 0.1155 - val_accuracy: 0.9684\n",
      "Epoch 11/50\n",
      "1863/1863 [==============================] - 43s 23ms/step - loss: 0.1645 - accuracy: 0.9545 - val_loss: 0.1120 - val_accuracy: 0.9695\n",
      "Epoch 12/50\n",
      "1863/1863 [==============================] - 42s 23ms/step - loss: 0.1628 - accuracy: 0.9543 - val_loss: 0.1110 - val_accuracy: 0.9703\n",
      "Epoch 13/50\n",
      "1863/1863 [==============================] - 42s 23ms/step - loss: 0.1582 - accuracy: 0.9554 - val_loss: 0.1058 - val_accuracy: 0.9714\n",
      "Epoch 14/50\n",
      "1863/1863 [==============================] - 43s 23ms/step - loss: 0.1572 - accuracy: 0.9558 - val_loss: 0.1077 - val_accuracy: 0.9708\n",
      "Epoch 15/50\n",
      "1863/1863 [==============================] - 43s 23ms/step - loss: 0.1526 - accuracy: 0.9573 - val_loss: 0.1072 - val_accuracy: 0.9716\n",
      "Epoch 16/50\n",
      "1863/1863 [==============================] - 43s 23ms/step - loss: 0.1524 - accuracy: 0.9576 - val_loss: 0.1038 - val_accuracy: 0.9718\n",
      "Epoch 17/50\n",
      "1863/1863 [==============================] - 42s 23ms/step - loss: 0.1508 - accuracy: 0.9581 - val_loss: 0.1070 - val_accuracy: 0.9712\n",
      "Epoch 18/50\n",
      "1863/1863 [==============================] - 42s 23ms/step - loss: 0.1482 - accuracy: 0.9587 - val_loss: 0.1040 - val_accuracy: 0.9724\n",
      "Epoch 19/50\n",
      "1863/1863 [==============================] - 42s 23ms/step - loss: 0.1468 - accuracy: 0.9589 - val_loss: 0.0996 - val_accuracy: 0.9735\n",
      "Epoch 20/50\n",
      "1863/1863 [==============================] - 42s 22ms/step - loss: 0.1455 - accuracy: 0.9594 - val_loss: 0.1043 - val_accuracy: 0.9714\n",
      "Epoch 21/50\n",
      "1863/1863 [==============================] - 42s 23ms/step - loss: 0.1443 - accuracy: 0.9600 - val_loss: 0.0990 - val_accuracy: 0.9740\n",
      "Epoch 22/50\n",
      "1863/1863 [==============================] - 42s 23ms/step - loss: 0.1443 - accuracy: 0.9602 - val_loss: 0.1002 - val_accuracy: 0.9731\n",
      "Epoch 23/50\n",
      "1863/1863 [==============================] - 42s 23ms/step - loss: 0.1408 - accuracy: 0.9609 - val_loss: 0.1017 - val_accuracy: 0.9725\n",
      "Epoch 24/50\n",
      "1863/1863 [==============================] - 42s 23ms/step - loss: 0.1413 - accuracy: 0.9608 - val_loss: 0.0949 - val_accuracy: 0.9754\n",
      "Epoch 25/50\n",
      "1863/1863 [==============================] - 42s 23ms/step - loss: 0.1398 - accuracy: 0.9614 - val_loss: 0.0971 - val_accuracy: 0.9747\n",
      "Epoch 26/50\n",
      "1863/1863 [==============================] - 43s 23ms/step - loss: 0.1400 - accuracy: 0.9615 - val_loss: 0.0964 - val_accuracy: 0.9757\n",
      "Epoch 27/50\n",
      "1863/1863 [==============================] - 41s 22ms/step - loss: 0.1395 - accuracy: 0.9617 - val_loss: 0.0963 - val_accuracy: 0.9745\n",
      "Epoch 28/50\n",
      "1863/1863 [==============================] - 42s 23ms/step - loss: 0.1384 - accuracy: 0.9619 - val_loss: 0.0967 - val_accuracy: 0.9749\n",
      "Epoch 29/50\n",
      "1863/1863 [==============================] - 43s 23ms/step - loss: 0.1368 - accuracy: 0.9621 - val_loss: 0.0959 - val_accuracy: 0.9751\n",
      "Epoch 30/50\n",
      "1863/1863 [==============================] - 42s 23ms/step - loss: 0.1366 - accuracy: 0.9622 - val_loss: 0.0977 - val_accuracy: 0.9746\n",
      "Epoch 31/50\n",
      "1863/1863 [==============================] - 42s 23ms/step - loss: 0.1349 - accuracy: 0.9625 - val_loss: 0.0975 - val_accuracy: 0.9741\n",
      "Epoch 32/50\n",
      "1863/1863 [==============================] - 42s 23ms/step - loss: 0.1342 - accuracy: 0.9622 - val_loss: 0.0974 - val_accuracy: 0.9736\n",
      "Epoch 33/50\n",
      "1863/1863 [==============================] - 42s 23ms/step - loss: 0.1340 - accuracy: 0.9628 - val_loss: 0.0967 - val_accuracy: 0.9745\n",
      "Epoch 34/50\n",
      "1863/1863 [==============================] - 43s 23ms/step - loss: 0.1348 - accuracy: 0.9625 - val_loss: 0.0958 - val_accuracy: 0.9747\n",
      "Epoch 35/50\n",
      "1863/1863 [==============================] - 43s 23ms/step - loss: 0.1338 - accuracy: 0.9631 - val_loss: 0.0961 - val_accuracy: 0.9746\n",
      "Epoch 36/50\n",
      "1863/1863 [==============================] - 43s 23ms/step - loss: 0.1316 - accuracy: 0.9630 - val_loss: 0.0927 - val_accuracy: 0.9760\n",
      "Epoch 37/50\n",
      "1863/1863 [==============================] - 42s 23ms/step - loss: 0.1327 - accuracy: 0.9630 - val_loss: 0.0935 - val_accuracy: 0.9749\n",
      "Epoch 38/50\n",
      "1863/1863 [==============================] - 42s 23ms/step - loss: 0.1326 - accuracy: 0.9632 - val_loss: 0.0966 - val_accuracy: 0.9748\n",
      "Epoch 39/50\n",
      "1863/1863 [==============================] - 42s 23ms/step - loss: 0.1315 - accuracy: 0.9635 - val_loss: 0.0904 - val_accuracy: 0.9765\n",
      "Epoch 40/50\n",
      "1863/1863 [==============================] - 43s 23ms/step - loss: 0.1335 - accuracy: 0.9628 - val_loss: 0.0939 - val_accuracy: 0.9758\n",
      "Epoch 41/50\n",
      "1863/1863 [==============================] - 43s 23ms/step - loss: 0.1305 - accuracy: 0.9638 - val_loss: 0.0930 - val_accuracy: 0.9761\n",
      "Epoch 42/50\n",
      "1863/1863 [==============================] - 42s 23ms/step - loss: 0.1295 - accuracy: 0.9640 - val_loss: 0.0931 - val_accuracy: 0.9753\n",
      "Epoch 43/50\n",
      "1863/1863 [==============================] - 43s 23ms/step - loss: 0.1311 - accuracy: 0.9638 - val_loss: 0.0920 - val_accuracy: 0.9759\n",
      "Epoch 44/50\n",
      "1863/1863 [==============================] - 43s 23ms/step - loss: 0.1300 - accuracy: 0.9638 - val_loss: 0.0898 - val_accuracy: 0.9766\n",
      "Epoch 45/50\n",
      "1863/1863 [==============================] - 42s 23ms/step - loss: 0.1287 - accuracy: 0.9645 - val_loss: 0.0960 - val_accuracy: 0.9748\n",
      "Epoch 46/50\n",
      "1863/1863 [==============================] - 42s 23ms/step - loss: 0.1294 - accuracy: 0.9639 - val_loss: 0.0911 - val_accuracy: 0.9766\n",
      "Epoch 47/50\n",
      "1863/1863 [==============================] - 42s 23ms/step - loss: 0.1272 - accuracy: 0.9646 - val_loss: 0.0918 - val_accuracy: 0.9761\n",
      "Epoch 48/50\n",
      "1863/1863 [==============================] - 42s 23ms/step - loss: 0.1288 - accuracy: 0.9641 - val_loss: 0.0917 - val_accuracy: 0.9757\n",
      "Epoch 49/50\n",
      "1863/1863 [==============================] - 42s 23ms/step - loss: 0.1293 - accuracy: 0.9643 - val_loss: 0.0938 - val_accuracy: 0.9761\n",
      "Epoch 50/50\n",
      "1863/1863 [==============================] - 42s 23ms/step - loss: 0.1279 - accuracy: 0.9643 - val_loss: 0.0935 - val_accuracy: 0.9750\n"
     ]
    }
   ],
   "source": [
    "# train model and produce history artifact\n",
    "history = model.fit(aug.flow(X_train, y_train, batch_size=128), validation_data=(X_val, y_val), epochs=50)"
   ]
  },
  {
   "cell_type": "code",
   "execution_count": 13,
   "id": "539acf0a-64df-47f5-89b8-9c507300ad44",
   "metadata": {},
   "outputs": [],
   "source": [
    "# save model\n",
    "model.save('model/Basic_AugInput.h5')"
   ]
  },
  {
   "cell_type": "code",
   "execution_count": 14,
   "id": "39729118-7028-4606-b4fc-9291eb0ea778",
   "metadata": {},
   "outputs": [],
   "source": [
    "# save model history\n",
    "with open('hist/Basic_AugInput.hist', 'wb') as file_pi:\n",
    "        pickle.dump(history.history, file_pi)"
   ]
  },
  {
   "cell_type": "code",
   "execution_count": 24,
   "id": "bf899361-7736-422c-8489-7d7c838e0df8",
   "metadata": {},
   "outputs": [
    {
     "data": {
      "text/plain": [
       "<matplotlib.legend.Legend at 0x2d3d7b02fd0>"
      ]
     },
     "execution_count": 24,
     "metadata": {},
     "output_type": "execute_result"
    },
    {
     "data": {
      "image/png": "[encoded data removed]",
      "text/plain": [
       "<Figure size 1440x360 with 2 Axes>"
      ]
     },
     "metadata": {},
     "output_type": "display_data"
    }
   ],
   "source": [
    "# show plots of both accuracy and loss vs training epochs\n",
    "N = np.arange(0, 50)\n",
    "plt.style.use('ggplot')\n",
    "\n",
    "fig, ax = plt.subplots(1, 2)\n",
    "\n",
    "fig.suptitle('Training Accuracy and Loss')\n",
    "fig.set_figheight(5)\n",
    "fig.set_figwidth(20)\n",
    "\n",
    "ax[0].plot(N, history.history[\"accuracy\"], label=\"training\")\n",
    "ax[0].plot(N, history.history[\"val_accuracy\"], label=\"validation\")\n",
    "ax[0].set(xlabel='Epoch #', ylabel='Accuracy')\n",
    "ax[0].legend(loc=\"lower left\")\n",
    "\n",
    "ax[1].plot(N, history.history[\"loss\"], label=\"training\")\n",
    "ax[1].plot(N, history.history[\"val_loss\"], label=\"validation\")\n",
    "ax[1].set(xlabel='Epoch #', ylabel='Loss')\n",
    "ax[1].legend(loc=\"lower left\")"
   ]
  },
  {
   "cell_type": "code",
   "execution_count": 25,
   "id": "c102401d-78bf-46e2-bc5c-a1f6fc0409c0",
   "metadata": {},
   "outputs": [],
   "source": [
    "# save the above figure\n",
    "fig.savefig('hist/Basic_AugInput.pdf', bbox_inches='tight')"
   ]
  },
  {
   "cell_type": "code",
   "execution_count": 26,
   "id": "96f26628-3444-4471-9b40-43a3d1948c16",
   "metadata": {},
   "outputs": [
    {
     "name": "stdout",
     "output_type": "stream",
     "text": [
      "              precision    recall  f1-score   support\n",
      "\n",
      "           A       0.97      1.00      0.98        92\n",
      "           B       0.98      0.98      0.98        64\n",
      "           C       0.98      0.98      0.98       201\n",
      "           D       0.91      0.87      0.89        67\n",
      "           E       1.00      0.96      0.98        78\n",
      "           F       1.00      1.00      1.00         8\n",
      "           G       0.93      0.98      0.95        41\n",
      "           H       1.00      0.93      0.96        55\n",
      "           I       1.00      1.00      1.00         9\n",
      "           J       0.92      0.99      0.95        68\n",
      "           K       0.93      0.90      0.91        41\n",
      "           L       0.94      0.96      0.95        85\n",
      "           M       0.98      0.98      0.98       100\n",
      "           N       0.98      0.99      0.99       186\n",
      "           O       0.98      0.99      0.98       480\n",
      "           P       1.00      0.97      0.99       150\n",
      "           Q       0.98      0.98      0.98        55\n",
      "           R       0.98      0.96      0.97        90\n",
      "           S       0.99      0.99      0.99       394\n",
      "           T       0.99      0.99      0.99       188\n",
      "           U       0.97      0.98      0.97       245\n",
      "           V       1.00      1.00      1.00        31\n",
      "           W       0.99      0.92      0.95        89\n",
      "           X       0.95      0.97      0.96        59\n",
      "           Y       0.95      0.94      0.95        67\n",
      "           Z       1.00      1.00      1.00        57\n",
      "\n",
      "    accuracy                           0.98      3000\n",
      "   macro avg       0.97      0.97      0.97      3000\n",
      "weighted avg       0.98      0.98      0.98      3000\n",
      "\n"
     ]
    }
   ],
   "source": [
    "# produce predictions on test set and display classification report\n",
    "predictions = model.predict(X_test[:3000])\n",
    "print(classification_report(y_test[:3000].argmax(axis=1), predictions.argmax(axis=1), target_names=labelNames))"
   ]
  },
  {
   "cell_type": "code",
   "execution_count": 19,
   "id": "24d5ae7d-38cb-4772-8140-b95cb05caff2",
   "metadata": {},
   "outputs": [
    {
     "name": "stdout",
     "output_type": "stream",
     "text": [
      "Running on local URL:  http://127.0.0.1:7864/\n",
      "Running on public URL: https://38851.gradio.app\n",
      "\n",
      "This share link expires in 72 hours. For free permanent hosting, check out Spaces (https://huggingface.co/spaces)\n"
     ]
    },
    {
     "data": {
      "text/html": [
       "\n",
       "        <iframe\n",
       "            width=\"900\"\n",
       "            height=\"500\"\n",
       "            src=\"https://38851.gradio.app\"\n",
       "            frameborder=\"0\"\n",
       "            allowfullscreen\n",
       "            \n",
       "        ></iframe>\n",
       "        "
      ],
      "text/plain": [
       "<IPython.lib.display.IFrame at 0x2d3c9581e50>"
      ]
     },
     "metadata": {},
     "output_type": "display_data"
    },
    {
     "data": {
      "text/plain": [
       "(<Flask 'gradio.networking'>,\n",
       " 'http://127.0.0.1:7864/',\n",
       " 'https://38851.gradio.app')"
      ]
     },
     "execution_count": 19,
     "metadata": {},
     "output_type": "execute_result"
    }
   ],
   "source": [
    "import gradio as gr\n",
    "\n",
    "def classify(input):\n",
    "    prediction = model.predict(input.reshape(1, 28, 28)).tolist()[0]\n",
    "    return {str(label): prediction[i] for i, label in enumerate(labelNames)}\n",
    "\n",
    "label = gr.outputs.Label(num_top_classes=3)\n",
    "interface = gr.Interface(fn=classify, inputs=\"sketchpad\", outputs=label)\n",
    "interface.launch(share=True)"
   ]
  },
  {
   "cell_type": "code",
   "execution_count": null,
   "id": "0bab3498-9a50-4103-a33b-a5f3a5652dee",
   "metadata": {},
   "outputs": [],
   "source": []
  }
 ],
 "metadata": {
  "kernelspec": {
   "display_name": "Python 3 (ipykernel)",
   "language": "python",
   "name": "python3"
  },
  "language_info": {
   "codemirror_mode": {
    "name": "ipython",
    "version": 3
   },
   "file_extension": ".py",
   "mimetype": "text/x-python",
   "name": "python",
   "nbconvert_exporter": "python",
   "pygments_lexer": "ipython3",
   "version": "3.9.7"
  }
 },
 "nbformat": 4,
 "nbformat_minor": 5
}
